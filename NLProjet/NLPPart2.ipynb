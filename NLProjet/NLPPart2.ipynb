{
 "cells": [
  {
   "cell_type": "markdown",
   "id": "7155115c",
   "metadata": {},
   "source": [
    "# Part 2"
   ]
  },
  {
   "cell_type": "markdown",
   "id": "4fc059e6",
   "metadata": {},
   "source": [
    "This notebook includes a comparison of the performance of the selected models. It presents a table and a bar chart to visualize and compare the training and testing scores of these models using both BOW and TF-IDF representations.\n",
    "We use these techniques and models to explore text classification, and the choice of representation and model depends on the specific goals and characteristics of the dataset. The comparison of the models provides insight into their relative performance for the task of classifying stress-related messages."
   ]
  },
  {
   "cell_type": "markdown",
   "id": "69cb2ef8",
   "metadata": {},
   "source": [
    "### Pre-processing"
   ]
  },
  {
   "cell_type": "code",
   "execution_count": 73,
   "id": "414adeeb",
   "metadata": {},
   "outputs": [
    {
     "name": "stderr",
     "output_type": "stream",
     "text": [
      "[nltk_data] Downloading package omw-1.4 to\n",
      "[nltk_data]     C:\\Users\\nicol\\AppData\\Roaming\\nltk_data...\n",
      "[nltk_data]   Package omw-1.4 is already up-to-date!\n",
      "[nltk_data] Downloading package wordnet to\n",
      "[nltk_data]     C:\\Users\\nicol\\AppData\\Roaming\\nltk_data...\n",
      "[nltk_data]   Package wordnet is already up-to-date!\n",
      "[nltk_data] Downloading package wordnet2022 to\n",
      "[nltk_data]     C:\\Users\\nicol\\AppData\\Roaming\\nltk_data...\n",
      "[nltk_data]   Package wordnet2022 is already up-to-date!\n",
      "[nltk_data] Downloading package punkt to\n",
      "[nltk_data]     C:\\Users\\nicol\\AppData\\Roaming\\nltk_data...\n",
      "[nltk_data]   Package punkt is already up-to-date!\n",
      "[nltk_data] Downloading package stopwords to\n",
      "[nltk_data]     C:\\Users\\nicol\\AppData\\Roaming\\nltk_data...\n",
      "[nltk_data]   Package stopwords is already up-to-date!\n"
     ]
    },
    {
     "data": {
      "text/plain": [
       "True"
      ]
     },
     "execution_count": 73,
     "metadata": {},
     "output_type": "execute_result"
    }
   ],
   "source": [
    "\n",
    "#Data Loading and Exploration\n",
    "\n",
    "import numpy as np # linear algebra\n",
    "import pandas as pd # data processing, CSV file I/O (e.g. pd.read_csv)\n",
    "import numpy as np # linear algebra\n",
    "import pandas as pd # data processing, CSV file I/O (e.g. pd.read_csv)\n",
    "df = pd.read_csv(\"Stress.csv\")\n",
    "\n",
    "not_used_cols = ['subreddit','post_id','sentence_range','confidence','social_timestamp']\n",
    "df1 = df.drop(not_used_cols,axis=1)\n",
    "df1['label'].unique()\n",
    "#Text processing\n",
    "#importing required libraries (nltk,spacy,urllib,re etc.)\n",
    "#downloading required database (omw), wordnet, punkt, stopwords\n",
    "#cleaning data (with regualr expression)\n",
    "import nltk\n",
    "import re\n",
    "from urllib.parse import urlparse\n",
    "from spacy import load\n",
    "from nltk.stem import WordNetLemmatizer\n",
    "from nltk.corpus import stopwords\n",
    "from nltk.tokenize import word_tokenize\n",
    "nltk.download('omw-1.4') # Open Multilingual Wordnet, this is an lexical database \n",
    "nltk.download('wordnet') \n",
    "nltk.download('wordnet2022')\n",
    "nltk.download('punkt')\n",
    "nltk.download('stopwords')"
   ]
  },
  {
   "cell_type": "code",
   "execution_count": 74,
   "id": "af0bc817",
   "metadata": {},
   "outputs": [],
   "source": [
    "lemmatizer = WordNetLemmatizer()\n",
    "stop_words = list(stopwords.words('english'))\n",
    "def textProcess(sent):\n",
    "    try:\n",
    "        # Replace square brackets, parentheses with spaces\n",
    "        sent = re.sub('[][)(]', ' ', sent)\n",
    "\n",
    "        # Remove URLs by checking if a word has a URL scheme\n",
    "        sent = [word for word in sent.split() if not urlparse(word).scheme]\n",
    "        sent = ' '.join(sent)\n",
    "\n",
    "        # Remove escape characters starting with '@'\n",
    "        sent = re.sub(r'\\@\\w+', '', sent)\n",
    "\n",
    "        # Remove HTML tags using regular expressions\n",
    "        sent = re.sub(re.compile(\"<.*?>\"), '', sent)\n",
    "\n",
    "        # Keep only letters and numbers, replace others with spaces\n",
    "        sent = re.sub(\"[^A-Za-z0-9]\", ' ', sent)\n",
    "\n",
    "        # Convert all words to lowercase\n",
    "        sent = sent.lower()\n",
    "\n",
    "        # Strip extra spaces from words and sentences\n",
    "        sent = [word.strip() for word in sent.split()]\n",
    "        sent = ' '.join(sent)\n",
    "\n",
    "        # Tokenize the text into words\n",
    "        tokens = word_tokenize(sent)\n",
    "        \n",
    "        # Remove stopwords (common words that don't carry much meaning)\n",
    "        tokens = [word for word in tokens if word not in stop_words]\n",
    "\n",
    "        # Lemmatize the words (convert words to their base form)\n",
    "        sent = [lemmatizer.lemmatize(word) for word in tokens]\n",
    "        sent = ' '.join(sent)\n",
    "\n",
    "        return sent\n",
    "\n",
    "    except Exception as ex:\n",
    "        # Handle exceptions and print an error message\n",
    "        print(sent, \"\\n\")\n",
    "        print(\"Error \", ex)\n"
   ]
  },
  {
   "cell_type": "code",
   "execution_count": 75,
   "id": "85d6b669",
   "metadata": {},
   "outputs": [],
   "source": [
    "df1['processed_text'] = df1['text'].apply(lambda text: textProcess(text))"
   ]
  },
  {
   "cell_type": "markdown",
   "id": "b66a4801",
   "metadata": {},
   "source": [
    "## BOW (Bag Of Word) / TF-IDF"
   ]
  },
  {
   "cell_type": "markdown",
   "id": "e474ab5a",
   "metadata": {},
   "source": [
    "\n",
    "### Bag of Words (BOW):\n",
    "\n",
    "BOW is a straightforward and effective method for text classification with a quickly understand of the word frequency distribution in documents, which is essential for our classification task. BOW identifying important keywords in documents, aiding our content comprehension by highlighting key terms."
   ]
  },
  {
   "cell_type": "code",
   "execution_count": 49,
   "id": "bcca3f77",
   "metadata": {},
   "outputs": [],
   "source": [
    "lemmatizer = WordNetLemmatizer()\n",
    "stop_words = list(stopwords.words('english'))\n",
    "def textProcess(sent):\n",
    "    try:\n",
    "        # Replace square brackets, parentheses with spaces\n",
    "        sent = re.sub('[][)(]', ' ', sent)\n",
    "\n",
    "        # Remove URLs by checking if a word has a URL scheme\n",
    "        sent = [word for word in sent.split() if not urlparse(word).scheme]\n",
    "        sent = ' '.join(sent)\n",
    "\n",
    "        # Remove escape characters starting with '@'\n",
    "        sent = re.sub(r'\\@\\w+', '', sent)\n",
    "\n",
    "        # Remove HTML tags using regular expressions\n",
    "        sent = re.sub(re.compile(\"<.*?>\"), '', sent)\n",
    "\n",
    "        # Keep only letters and numbers, replace others with spaces\n",
    "        sent = re.sub(\"[^A-Za-z0-9]\", ' ', sent)\n",
    "\n",
    "        # Convert all words to lowercase\n",
    "        sent = sent.lower()\n",
    "\n",
    "        # Strip extra spaces from words and sentences\n",
    "        sent = [word.strip() for word in sent.split()]\n",
    "        sent = ' '.join(sent)\n",
    "\n",
    "        # Tokenize the text into words\n",
    "        tokens = word_tokenize(sent)\n",
    "        \n",
    "        # Remove stopwords (common words that don't carry much meaning)\n",
    "        tokens = [word for word in tokens if word not in stop_words]\n",
    "\n",
    "        # Lemmatize the words (convert words to their base form)\n",
    "        sent = [lemmatizer.lemmatize(word) for word in tokens]\n",
    "        sent = ' '.join(sent)\n",
    "\n",
    "        return sent\n",
    "\n",
    "    except Exception as ex:\n",
    "        # Handle exceptions and print an error message\n",
    "        print(sent, \"\\n\")\n",
    "        print(\"Error \", ex)\n"
   ]
  },
  {
   "cell_type": "code",
   "execution_count": 50,
   "id": "358326e4",
   "metadata": {},
   "outputs": [],
   "source": [
    "df1['processed_text'] = df1['text'].apply(lambda text: textProcess(text))"
   ]
  },
  {
   "cell_type": "markdown",
   "id": "5111d402",
   "metadata": {},
   "source": [
    "# Part 2"
   ]
  },
  {
   "cell_type": "markdown",
   "id": "ebe92e4f",
   "metadata": {},
   "source": [
    "Bag of Words (BOW):\n",
    "\n",
    "BOW is a straightforward and effective method for text classification with a quickly understand of the word frequency distribution in documents, which is essential for our classification task. BOW identifying important keywords in documents, aiding our content comprehension by highlighting key terms."
   ]
  },
  {
   "cell_type": "code",
   "execution_count": 51,
   "id": "4479816d",
   "metadata": {},
   "outputs": [
    {
     "data": {
      "text/html": [
       "<div>\n",
       "<style scoped>\n",
       "    .dataframe tbody tr th:only-of-type {\n",
       "        vertical-align: middle;\n",
       "    }\n",
       "\n",
       "    .dataframe tbody tr th {\n",
       "        vertical-align: top;\n",
       "    }\n",
       "\n",
       "    .dataframe thead th {\n",
       "        text-align: right;\n",
       "    }\n",
       "</style>\n",
       "<table border=\"1\" class=\"dataframe\">\n",
       "  <thead>\n",
       "    <tr style=\"text-align: right;\">\n",
       "      <th></th>\n",
       "      <th>00</th>\n",
       "      <th>000</th>\n",
       "      <th>02</th>\n",
       "      <th>06</th>\n",
       "      <th>10</th>\n",
       "      <th>100</th>\n",
       "      <th>1000</th>\n",
       "      <th>100kg</th>\n",
       "      <th>100mg</th>\n",
       "      <th>100x</th>\n",
       "      <th>...</th>\n",
       "      <th>zines</th>\n",
       "      <th>zinsser</th>\n",
       "      <th>zip</th>\n",
       "      <th>zofran</th>\n",
       "      <th>zoloft</th>\n",
       "      <th>zombie</th>\n",
       "      <th>zone</th>\n",
       "      <th>zoo</th>\n",
       "      <th>zuko</th>\n",
       "      <th>zumba</th>\n",
       "    </tr>\n",
       "  </thead>\n",
       "  <tbody>\n",
       "    <tr>\n",
       "      <th>0</th>\n",
       "      <td>0</td>\n",
       "      <td>0</td>\n",
       "      <td>0</td>\n",
       "      <td>0</td>\n",
       "      <td>0</td>\n",
       "      <td>0</td>\n",
       "      <td>0</td>\n",
       "      <td>0</td>\n",
       "      <td>0</td>\n",
       "      <td>0</td>\n",
       "      <td>...</td>\n",
       "      <td>0</td>\n",
       "      <td>0</td>\n",
       "      <td>0</td>\n",
       "      <td>0</td>\n",
       "      <td>0</td>\n",
       "      <td>0</td>\n",
       "      <td>0</td>\n",
       "      <td>0</td>\n",
       "      <td>0</td>\n",
       "      <td>0</td>\n",
       "    </tr>\n",
       "    <tr>\n",
       "      <th>1</th>\n",
       "      <td>0</td>\n",
       "      <td>0</td>\n",
       "      <td>0</td>\n",
       "      <td>0</td>\n",
       "      <td>0</td>\n",
       "      <td>0</td>\n",
       "      <td>0</td>\n",
       "      <td>0</td>\n",
       "      <td>0</td>\n",
       "      <td>0</td>\n",
       "      <td>...</td>\n",
       "      <td>0</td>\n",
       "      <td>0</td>\n",
       "      <td>0</td>\n",
       "      <td>0</td>\n",
       "      <td>0</td>\n",
       "      <td>0</td>\n",
       "      <td>0</td>\n",
       "      <td>0</td>\n",
       "      <td>0</td>\n",
       "      <td>0</td>\n",
       "    </tr>\n",
       "    <tr>\n",
       "      <th>2</th>\n",
       "      <td>0</td>\n",
       "      <td>0</td>\n",
       "      <td>0</td>\n",
       "      <td>0</td>\n",
       "      <td>0</td>\n",
       "      <td>0</td>\n",
       "      <td>0</td>\n",
       "      <td>0</td>\n",
       "      <td>0</td>\n",
       "      <td>0</td>\n",
       "      <td>...</td>\n",
       "      <td>0</td>\n",
       "      <td>0</td>\n",
       "      <td>0</td>\n",
       "      <td>0</td>\n",
       "      <td>0</td>\n",
       "      <td>0</td>\n",
       "      <td>0</td>\n",
       "      <td>0</td>\n",
       "      <td>0</td>\n",
       "      <td>0</td>\n",
       "    </tr>\n",
       "  </tbody>\n",
       "</table>\n",
       "<p>3 rows × 10140 columns</p>\n",
       "</div>"
      ],
      "text/plain": [
       "   00  000  02  06  10  100  1000  100kg  100mg  100x  ...  zines  zinsser  \\\n",
       "0   0    0   0   0   0    0     0      0      0     0  ...      0        0   \n",
       "1   0    0   0   0   0    0     0      0      0     0  ...      0        0   \n",
       "2   0    0   0   0   0    0     0      0      0     0  ...      0        0   \n",
       "\n",
       "   zip  zofran  zoloft  zombie  zone  zoo  zuko  zumba  \n",
       "0    0       0       0       0     0    0     0      0  \n",
       "1    0       0       0       0     0    0     0      0  \n",
       "2    0       0       0       0     0    0     0      0  \n",
       "\n",
       "[3 rows x 10140 columns]"
      ]
     },
     "execution_count": 51,
     "metadata": {},
     "output_type": "execute_result"
    }
   ],
   "source": [
    "from sklearn.feature_extraction.text import CountVectorizer\n",
    "MIN_DF = 1 \n",
    "# min_df is used for removing terms that appear too infrequently. \n",
    "# For example: min_df = 0.01 means \"ignore terms that appear in less than 1% of the documents\". \n",
    "cv = CountVectorizer(min_df=MIN_DF)\n",
    "cv_df = cv.fit_transform(df1['processed_text'])\n",
    "cv_df.toarray()\n",
    "\n",
    "cv_df = pd.DataFrame(cv_df.toarray(),columns=cv.get_feature_names_out())\n",
    "cv_df.head(3)  "
   ]
  },
  {
   "cell_type": "markdown",
   "id": "da902b1a",
   "metadata": {},
   "source": [
    "### Term Frequency-Inverse Document Frequency (TF-IDF):"
   ]
  },
  {
   "cell_type": "markdown",
   "id": "1c30d41d",
   "metadata": {},
   "source": [
    "\n",
    "TF-IDF addresses this by giving higher scores to words that are frequent in a specific document but rare across the entire corpus. \n",
    "That helps emphasize discriminative terms for classification and reduces the impact of common words like \"the\" and \"and.\""
   ]
  },
  {
   "cell_type": "markdown",
   "id": "5b33f613",
   "metadata": {},
   "source": [
    "TF-IDF (Term frequency - inverse document frequency)"
   ]
  },
  {
   "cell_type": "code",
   "execution_count": 52,
   "id": "82ff72d7",
   "metadata": {},
   "outputs": [
    {
     "data": {
      "text/plain": [
       "array([[0., 0., 0., ..., 0., 0., 0.],\n",
       "       [0., 0., 0., ..., 0., 0., 0.],\n",
       "       [0., 0., 0., ..., 0., 0., 0.],\n",
       "       ...,\n",
       "       [0., 0., 0., ..., 0., 0., 0.],\n",
       "       [0., 0., 0., ..., 0., 0., 0.],\n",
       "       [0., 0., 0., ..., 0., 0., 0.]])"
      ]
     },
     "execution_count": 52,
     "metadata": {},
     "output_type": "execute_result"
    }
   ],
   "source": [
    "from sklearn.feature_extraction.text import TfidfVectorizer\n",
    "tf = TfidfVectorizer(min_df=MIN_DF)\n",
    "tf_df = tf.fit_transform(df1['processed_text'])\n",
    "tf_df.toarray()\n"
   ]
  },
  {
   "cell_type": "code",
   "execution_count": null,
   "id": "50a2ddae",
   "metadata": {},
   "outputs": [],
   "source": []
  },
  {
   "cell_type": "code",
   "execution_count": 53,
   "id": "47d456cc",
   "metadata": {},
   "outputs": [
    {
     "data": {
      "text/html": [
       "<div>\n",
       "<style scoped>\n",
       "    .dataframe tbody tr th:only-of-type {\n",
       "        vertical-align: middle;\n",
       "    }\n",
       "\n",
       "    .dataframe tbody tr th {\n",
       "        vertical-align: top;\n",
       "    }\n",
       "\n",
       "    .dataframe thead th {\n",
       "        text-align: right;\n",
       "    }\n",
       "</style>\n",
       "<table border=\"1\" class=\"dataframe\">\n",
       "  <thead>\n",
       "    <tr style=\"text-align: right;\">\n",
       "      <th></th>\n",
       "      <th>00</th>\n",
       "      <th>000</th>\n",
       "      <th>02</th>\n",
       "      <th>06</th>\n",
       "      <th>10</th>\n",
       "      <th>100</th>\n",
       "      <th>1000</th>\n",
       "      <th>100kg</th>\n",
       "      <th>100mg</th>\n",
       "      <th>100x</th>\n",
       "      <th>...</th>\n",
       "      <th>zines</th>\n",
       "      <th>zinsser</th>\n",
       "      <th>zip</th>\n",
       "      <th>zofran</th>\n",
       "      <th>zoloft</th>\n",
       "      <th>zombie</th>\n",
       "      <th>zone</th>\n",
       "      <th>zoo</th>\n",
       "      <th>zuko</th>\n",
       "      <th>zumba</th>\n",
       "    </tr>\n",
       "  </thead>\n",
       "  <tbody>\n",
       "    <tr>\n",
       "      <th>0</th>\n",
       "      <td>0.0</td>\n",
       "      <td>0.0</td>\n",
       "      <td>0.0</td>\n",
       "      <td>0.0</td>\n",
       "      <td>0.0</td>\n",
       "      <td>0.0</td>\n",
       "      <td>0.0</td>\n",
       "      <td>0.0</td>\n",
       "      <td>0.0</td>\n",
       "      <td>0.0</td>\n",
       "      <td>...</td>\n",
       "      <td>0.0</td>\n",
       "      <td>0.0</td>\n",
       "      <td>0.0</td>\n",
       "      <td>0.0</td>\n",
       "      <td>0.0</td>\n",
       "      <td>0.0</td>\n",
       "      <td>0.0</td>\n",
       "      <td>0.0</td>\n",
       "      <td>0.0</td>\n",
       "      <td>0.0</td>\n",
       "    </tr>\n",
       "    <tr>\n",
       "      <th>1</th>\n",
       "      <td>0.0</td>\n",
       "      <td>0.0</td>\n",
       "      <td>0.0</td>\n",
       "      <td>0.0</td>\n",
       "      <td>0.0</td>\n",
       "      <td>0.0</td>\n",
       "      <td>0.0</td>\n",
       "      <td>0.0</td>\n",
       "      <td>0.0</td>\n",
       "      <td>0.0</td>\n",
       "      <td>...</td>\n",
       "      <td>0.0</td>\n",
       "      <td>0.0</td>\n",
       "      <td>0.0</td>\n",
       "      <td>0.0</td>\n",
       "      <td>0.0</td>\n",
       "      <td>0.0</td>\n",
       "      <td>0.0</td>\n",
       "      <td>0.0</td>\n",
       "      <td>0.0</td>\n",
       "      <td>0.0</td>\n",
       "    </tr>\n",
       "    <tr>\n",
       "      <th>2</th>\n",
       "      <td>0.0</td>\n",
       "      <td>0.0</td>\n",
       "      <td>0.0</td>\n",
       "      <td>0.0</td>\n",
       "      <td>0.0</td>\n",
       "      <td>0.0</td>\n",
       "      <td>0.0</td>\n",
       "      <td>0.0</td>\n",
       "      <td>0.0</td>\n",
       "      <td>0.0</td>\n",
       "      <td>...</td>\n",
       "      <td>0.0</td>\n",
       "      <td>0.0</td>\n",
       "      <td>0.0</td>\n",
       "      <td>0.0</td>\n",
       "      <td>0.0</td>\n",
       "      <td>0.0</td>\n",
       "      <td>0.0</td>\n",
       "      <td>0.0</td>\n",
       "      <td>0.0</td>\n",
       "      <td>0.0</td>\n",
       "    </tr>\n",
       "  </tbody>\n",
       "</table>\n",
       "<p>3 rows × 10140 columns</p>\n",
       "</div>"
      ],
      "text/plain": [
       "    00  000   02   06   10  100  1000  100kg  100mg  100x  ...  zines  \\\n",
       "0  0.0  0.0  0.0  0.0  0.0  0.0   0.0    0.0    0.0   0.0  ...    0.0   \n",
       "1  0.0  0.0  0.0  0.0  0.0  0.0   0.0    0.0    0.0   0.0  ...    0.0   \n",
       "2  0.0  0.0  0.0  0.0  0.0  0.0   0.0    0.0    0.0   0.0  ...    0.0   \n",
       "\n",
       "   zinsser  zip  zofran  zoloft  zombie  zone  zoo  zuko  zumba  \n",
       "0      0.0  0.0     0.0     0.0     0.0   0.0  0.0   0.0    0.0  \n",
       "1      0.0  0.0     0.0     0.0     0.0   0.0  0.0   0.0    0.0  \n",
       "2      0.0  0.0     0.0     0.0     0.0   0.0  0.0   0.0    0.0  \n",
       "\n",
       "[3 rows x 10140 columns]"
      ]
     },
     "execution_count": 53,
     "metadata": {},
     "output_type": "execute_result"
    }
   ],
   "source": [
    "tf_df = pd.DataFrame(tf_df.toarray(),columns=tf.get_feature_names_out())\n",
    "tf_df.head(3)"
   ]
  },
  {
   "cell_type": "code",
   "execution_count": 54,
   "id": "ff68a646",
   "metadata": {},
   "outputs": [
    {
     "data": {
      "text/html": [
       "<div>\n",
       "<style scoped>\n",
       "    .dataframe tbody tr th:only-of-type {\n",
       "        vertical-align: middle;\n",
       "    }\n",
       "\n",
       "    .dataframe tbody tr th {\n",
       "        vertical-align: top;\n",
       "    }\n",
       "\n",
       "    .dataframe thead th {\n",
       "        text-align: right;\n",
       "    }\n",
       "</style>\n",
       "<table border=\"1\" class=\"dataframe\">\n",
       "  <thead>\n",
       "    <tr style=\"text-align: right;\">\n",
       "      <th></th>\n",
       "      <th>00</th>\n",
       "      <th>000</th>\n",
       "      <th>02</th>\n",
       "      <th>06</th>\n",
       "      <th>10</th>\n",
       "      <th>100</th>\n",
       "      <th>1000</th>\n",
       "      <th>100kg</th>\n",
       "      <th>100mg</th>\n",
       "      <th>100x</th>\n",
       "      <th>...</th>\n",
       "      <th>zines</th>\n",
       "      <th>zinsser</th>\n",
       "      <th>zip</th>\n",
       "      <th>zofran</th>\n",
       "      <th>zoloft</th>\n",
       "      <th>zombie</th>\n",
       "      <th>zone</th>\n",
       "      <th>zoo</th>\n",
       "      <th>zuko</th>\n",
       "      <th>zumba</th>\n",
       "    </tr>\n",
       "  </thead>\n",
       "  <tbody>\n",
       "    <tr>\n",
       "      <th>count</th>\n",
       "      <td>2838.000000</td>\n",
       "      <td>2838.000000</td>\n",
       "      <td>2838.000000</td>\n",
       "      <td>2838.000000</td>\n",
       "      <td>2838.000000</td>\n",
       "      <td>2838.000000</td>\n",
       "      <td>2838.000000</td>\n",
       "      <td>2838.000000</td>\n",
       "      <td>2838.000000</td>\n",
       "      <td>2838.000000</td>\n",
       "      <td>...</td>\n",
       "      <td>2838.000000</td>\n",
       "      <td>2838.000000</td>\n",
       "      <td>2838.000000</td>\n",
       "      <td>2838.000000</td>\n",
       "      <td>2838.000000</td>\n",
       "      <td>2838.000000</td>\n",
       "      <td>2838.000000</td>\n",
       "      <td>2838.000000</td>\n",
       "      <td>2838.000000</td>\n",
       "      <td>2838.000000</td>\n",
       "    </tr>\n",
       "    <tr>\n",
       "      <th>mean</th>\n",
       "      <td>0.000176</td>\n",
       "      <td>0.000570</td>\n",
       "      <td>0.000112</td>\n",
       "      <td>0.000074</td>\n",
       "      <td>0.003420</td>\n",
       "      <td>0.001897</td>\n",
       "      <td>0.000607</td>\n",
       "      <td>0.000106</td>\n",
       "      <td>0.000122</td>\n",
       "      <td>0.000071</td>\n",
       "      <td>...</td>\n",
       "      <td>0.000080</td>\n",
       "      <td>0.000074</td>\n",
       "      <td>0.000212</td>\n",
       "      <td>0.000081</td>\n",
       "      <td>0.000748</td>\n",
       "      <td>0.000136</td>\n",
       "      <td>0.000257</td>\n",
       "      <td>0.000094</td>\n",
       "      <td>0.000058</td>\n",
       "      <td>0.000040</td>\n",
       "    </tr>\n",
       "    <tr>\n",
       "      <th>std</th>\n",
       "      <td>0.006641</td>\n",
       "      <td>0.010400</td>\n",
       "      <td>0.005943</td>\n",
       "      <td>0.003941</td>\n",
       "      <td>0.022159</td>\n",
       "      <td>0.018407</td>\n",
       "      <td>0.011747</td>\n",
       "      <td>0.005624</td>\n",
       "      <td>0.004854</td>\n",
       "      <td>0.003765</td>\n",
       "      <td>...</td>\n",
       "      <td>0.004252</td>\n",
       "      <td>0.003921</td>\n",
       "      <td>0.008125</td>\n",
       "      <td>0.004293</td>\n",
       "      <td>0.012308</td>\n",
       "      <td>0.005144</td>\n",
       "      <td>0.007226</td>\n",
       "      <td>0.004999</td>\n",
       "      <td>0.003113</td>\n",
       "      <td>0.002135</td>\n",
       "    </tr>\n",
       "    <tr>\n",
       "      <th>min</th>\n",
       "      <td>0.000000</td>\n",
       "      <td>0.000000</td>\n",
       "      <td>0.000000</td>\n",
       "      <td>0.000000</td>\n",
       "      <td>0.000000</td>\n",
       "      <td>0.000000</td>\n",
       "      <td>0.000000</td>\n",
       "      <td>0.000000</td>\n",
       "      <td>0.000000</td>\n",
       "      <td>0.000000</td>\n",
       "      <td>...</td>\n",
       "      <td>0.000000</td>\n",
       "      <td>0.000000</td>\n",
       "      <td>0.000000</td>\n",
       "      <td>0.000000</td>\n",
       "      <td>0.000000</td>\n",
       "      <td>0.000000</td>\n",
       "      <td>0.000000</td>\n",
       "      <td>0.000000</td>\n",
       "      <td>0.000000</td>\n",
       "      <td>0.000000</td>\n",
       "    </tr>\n",
       "    <tr>\n",
       "      <th>25%</th>\n",
       "      <td>0.000000</td>\n",
       "      <td>0.000000</td>\n",
       "      <td>0.000000</td>\n",
       "      <td>0.000000</td>\n",
       "      <td>0.000000</td>\n",
       "      <td>0.000000</td>\n",
       "      <td>0.000000</td>\n",
       "      <td>0.000000</td>\n",
       "      <td>0.000000</td>\n",
       "      <td>0.000000</td>\n",
       "      <td>...</td>\n",
       "      <td>0.000000</td>\n",
       "      <td>0.000000</td>\n",
       "      <td>0.000000</td>\n",
       "      <td>0.000000</td>\n",
       "      <td>0.000000</td>\n",
       "      <td>0.000000</td>\n",
       "      <td>0.000000</td>\n",
       "      <td>0.000000</td>\n",
       "      <td>0.000000</td>\n",
       "      <td>0.000000</td>\n",
       "    </tr>\n",
       "    <tr>\n",
       "      <th>50%</th>\n",
       "      <td>0.000000</td>\n",
       "      <td>0.000000</td>\n",
       "      <td>0.000000</td>\n",
       "      <td>0.000000</td>\n",
       "      <td>0.000000</td>\n",
       "      <td>0.000000</td>\n",
       "      <td>0.000000</td>\n",
       "      <td>0.000000</td>\n",
       "      <td>0.000000</td>\n",
       "      <td>0.000000</td>\n",
       "      <td>...</td>\n",
       "      <td>0.000000</td>\n",
       "      <td>0.000000</td>\n",
       "      <td>0.000000</td>\n",
       "      <td>0.000000</td>\n",
       "      <td>0.000000</td>\n",
       "      <td>0.000000</td>\n",
       "      <td>0.000000</td>\n",
       "      <td>0.000000</td>\n",
       "      <td>0.000000</td>\n",
       "      <td>0.000000</td>\n",
       "    </tr>\n",
       "    <tr>\n",
       "      <th>75%</th>\n",
       "      <td>0.000000</td>\n",
       "      <td>0.000000</td>\n",
       "      <td>0.000000</td>\n",
       "      <td>0.000000</td>\n",
       "      <td>0.000000</td>\n",
       "      <td>0.000000</td>\n",
       "      <td>0.000000</td>\n",
       "      <td>0.000000</td>\n",
       "      <td>0.000000</td>\n",
       "      <td>0.000000</td>\n",
       "      <td>...</td>\n",
       "      <td>0.000000</td>\n",
       "      <td>0.000000</td>\n",
       "      <td>0.000000</td>\n",
       "      <td>0.000000</td>\n",
       "      <td>0.000000</td>\n",
       "      <td>0.000000</td>\n",
       "      <td>0.000000</td>\n",
       "      <td>0.000000</td>\n",
       "      <td>0.000000</td>\n",
       "      <td>0.000000</td>\n",
       "    </tr>\n",
       "    <tr>\n",
       "      <th>max</th>\n",
       "      <td>0.265556</td>\n",
       "      <td>0.337824</td>\n",
       "      <td>0.316593</td>\n",
       "      <td>0.209957</td>\n",
       "      <td>0.277953</td>\n",
       "      <td>0.298782</td>\n",
       "      <td>0.324070</td>\n",
       "      <td>0.299611</td>\n",
       "      <td>0.231738</td>\n",
       "      <td>0.200569</td>\n",
       "      <td>...</td>\n",
       "      <td>0.226519</td>\n",
       "      <td>0.208890</td>\n",
       "      <td>0.357795</td>\n",
       "      <td>0.228713</td>\n",
       "      <td>0.314832</td>\n",
       "      <td>0.201190</td>\n",
       "      <td>0.286642</td>\n",
       "      <td>0.266303</td>\n",
       "      <td>0.165859</td>\n",
       "      <td>0.113743</td>\n",
       "    </tr>\n",
       "  </tbody>\n",
       "</table>\n",
       "<p>8 rows × 10140 columns</p>\n",
       "</div>"
      ],
      "text/plain": [
       "                00          000           02           06           10  \\\n",
       "count  2838.000000  2838.000000  2838.000000  2838.000000  2838.000000   \n",
       "mean      0.000176     0.000570     0.000112     0.000074     0.003420   \n",
       "std       0.006641     0.010400     0.005943     0.003941     0.022159   \n",
       "min       0.000000     0.000000     0.000000     0.000000     0.000000   \n",
       "25%       0.000000     0.000000     0.000000     0.000000     0.000000   \n",
       "50%       0.000000     0.000000     0.000000     0.000000     0.000000   \n",
       "75%       0.000000     0.000000     0.000000     0.000000     0.000000   \n",
       "max       0.265556     0.337824     0.316593     0.209957     0.277953   \n",
       "\n",
       "               100         1000        100kg        100mg         100x  ...  \\\n",
       "count  2838.000000  2838.000000  2838.000000  2838.000000  2838.000000  ...   \n",
       "mean      0.001897     0.000607     0.000106     0.000122     0.000071  ...   \n",
       "std       0.018407     0.011747     0.005624     0.004854     0.003765  ...   \n",
       "min       0.000000     0.000000     0.000000     0.000000     0.000000  ...   \n",
       "25%       0.000000     0.000000     0.000000     0.000000     0.000000  ...   \n",
       "50%       0.000000     0.000000     0.000000     0.000000     0.000000  ...   \n",
       "75%       0.000000     0.000000     0.000000     0.000000     0.000000  ...   \n",
       "max       0.298782     0.324070     0.299611     0.231738     0.200569  ...   \n",
       "\n",
       "             zines      zinsser          zip       zofran       zoloft  \\\n",
       "count  2838.000000  2838.000000  2838.000000  2838.000000  2838.000000   \n",
       "mean      0.000080     0.000074     0.000212     0.000081     0.000748   \n",
       "std       0.004252     0.003921     0.008125     0.004293     0.012308   \n",
       "min       0.000000     0.000000     0.000000     0.000000     0.000000   \n",
       "25%       0.000000     0.000000     0.000000     0.000000     0.000000   \n",
       "50%       0.000000     0.000000     0.000000     0.000000     0.000000   \n",
       "75%       0.000000     0.000000     0.000000     0.000000     0.000000   \n",
       "max       0.226519     0.208890     0.357795     0.228713     0.314832   \n",
       "\n",
       "            zombie         zone          zoo         zuko        zumba  \n",
       "count  2838.000000  2838.000000  2838.000000  2838.000000  2838.000000  \n",
       "mean      0.000136     0.000257     0.000094     0.000058     0.000040  \n",
       "std       0.005144     0.007226     0.004999     0.003113     0.002135  \n",
       "min       0.000000     0.000000     0.000000     0.000000     0.000000  \n",
       "25%       0.000000     0.000000     0.000000     0.000000     0.000000  \n",
       "50%       0.000000     0.000000     0.000000     0.000000     0.000000  \n",
       "75%       0.000000     0.000000     0.000000     0.000000     0.000000  \n",
       "max       0.201190     0.286642     0.266303     0.165859     0.113743  \n",
       "\n",
       "[8 rows x 10140 columns]"
      ]
     },
     "execution_count": 54,
     "metadata": {},
     "output_type": "execute_result"
    }
   ],
   "source": [
    "tf_df.describe()"
   ]
  },
  {
   "cell_type": "code",
   "execution_count": 55,
   "id": "eb345a07",
   "metadata": {},
   "outputs": [
    {
     "data": {
      "text/plain": [
       "((2838, 10140), (2838, 10140))"
      ]
     },
     "execution_count": 55,
     "metadata": {},
     "output_type": "execute_result"
    }
   ],
   "source": [
    "cv_df.shape,tf_df.shape"
   ]
  },
  {
   "cell_type": "markdown",
   "id": "d6c2b530",
   "metadata": {},
   "source": [
    "### Choose the best model"
   ]
  },
  {
   "cell_type": "markdown",
   "id": "58142c55",
   "metadata": {},
   "source": [
    "Each case explores a different combination of model and feature representation.\n",
    "\n",
    "The choice between models and representations may depend on the specific characteristics of our data and the trade-off between simplicity and complexity in the model."
   ]
  },
  {
   "cell_type": "markdown",
   "id": "b01d7ea1",
   "metadata": {},
   "source": [
    "BOW treats all words equally, including common ones that may not be informative for classification.\n"
   ]
  },
  {
   "cell_type": "code",
   "execution_count": 56,
   "id": "abeaa6f1",
   "metadata": {},
   "outputs": [],
   "source": [
    "# Import necessary libraries and modules\n",
    "from sklearn.model_selection import train_test_split\n",
    "from sklearn.linear_model import LogisticRegression\n",
    "from sklearn.naive_bayes import MultinomialNB\n",
    "from sklearn.ensemble import RandomForestClassifier\n",
    "\n",
    "# Split the data into training and test sets\n",
    "X_train, X_test, y_train, y_test = train_test_split(cv_df, df1['label'], stratify=df1['label'])\n"
   ]
  },
  {
   "cell_type": "markdown",
   "id": "04e9e342",
   "metadata": {},
   "source": [
    " Logistic Regression is chosen for its simplicity and interpretability. Bag of Words (BOW) representation is used, which creates a vocabulary of words and encodes each document as a vector of word counts."
   ]
  },
  {
   "cell_type": "code",
   "execution_count": 57,
   "id": "cf0aa2b8",
   "metadata": {},
   "outputs": [
    {
     "data": {
      "text/html": [
       "<style>#sk-container-id-6 {color: black;}#sk-container-id-6 pre{padding: 0;}#sk-container-id-6 div.sk-toggleable {background-color: white;}#sk-container-id-6 label.sk-toggleable__label {cursor: pointer;display: block;width: 100%;margin-bottom: 0;padding: 0.3em;box-sizing: border-box;text-align: center;}#sk-container-id-6 label.sk-toggleable__label-arrow:before {content: \"▸\";float: left;margin-right: 0.25em;color: #696969;}#sk-container-id-6 label.sk-toggleable__label-arrow:hover:before {color: black;}#sk-container-id-6 div.sk-estimator:hover label.sk-toggleable__label-arrow:before {color: black;}#sk-container-id-6 div.sk-toggleable__content {max-height: 0;max-width: 0;overflow: hidden;text-align: left;background-color: #f0f8ff;}#sk-container-id-6 div.sk-toggleable__content pre {margin: 0.2em;color: black;border-radius: 0.25em;background-color: #f0f8ff;}#sk-container-id-6 input.sk-toggleable__control:checked~div.sk-toggleable__content {max-height: 200px;max-width: 100%;overflow: auto;}#sk-container-id-6 input.sk-toggleable__control:checked~label.sk-toggleable__label-arrow:before {content: \"▾\";}#sk-container-id-6 div.sk-estimator input.sk-toggleable__control:checked~label.sk-toggleable__label {background-color: #d4ebff;}#sk-container-id-6 div.sk-label input.sk-toggleable__control:checked~label.sk-toggleable__label {background-color: #d4ebff;}#sk-container-id-6 input.sk-hidden--visually {border: 0;clip: rect(1px 1px 1px 1px);clip: rect(1px, 1px, 1px, 1px);height: 1px;margin: -1px;overflow: hidden;padding: 0;position: absolute;width: 1px;}#sk-container-id-6 div.sk-estimator {font-family: monospace;background-color: #f0f8ff;border: 1px dotted black;border-radius: 0.25em;box-sizing: border-box;margin-bottom: 0.5em;}#sk-container-id-6 div.sk-estimator:hover {background-color: #d4ebff;}#sk-container-id-6 div.sk-parallel-item::after {content: \"\";width: 100%;border-bottom: 1px solid gray;flex-grow: 1;}#sk-container-id-6 div.sk-label:hover label.sk-toggleable__label {background-color: #d4ebff;}#sk-container-id-6 div.sk-serial::before {content: \"\";position: absolute;border-left: 1px solid gray;box-sizing: border-box;top: 0;bottom: 0;left: 50%;z-index: 0;}#sk-container-id-6 div.sk-serial {display: flex;flex-direction: column;align-items: center;background-color: white;padding-right: 0.2em;padding-left: 0.2em;position: relative;}#sk-container-id-6 div.sk-item {position: relative;z-index: 1;}#sk-container-id-6 div.sk-parallel {display: flex;align-items: stretch;justify-content: center;background-color: white;position: relative;}#sk-container-id-6 div.sk-item::before, #sk-container-id-6 div.sk-parallel-item::before {content: \"\";position: absolute;border-left: 1px solid gray;box-sizing: border-box;top: 0;bottom: 0;left: 50%;z-index: -1;}#sk-container-id-6 div.sk-parallel-item {display: flex;flex-direction: column;z-index: 1;position: relative;background-color: white;}#sk-container-id-6 div.sk-parallel-item:first-child::after {align-self: flex-end;width: 50%;}#sk-container-id-6 div.sk-parallel-item:last-child::after {align-self: flex-start;width: 50%;}#sk-container-id-6 div.sk-parallel-item:only-child::after {width: 0;}#sk-container-id-6 div.sk-dashed-wrapped {border: 1px dashed gray;margin: 0 0.4em 0.5em 0.4em;box-sizing: border-box;padding-bottom: 0.4em;background-color: white;}#sk-container-id-6 div.sk-label label {font-family: monospace;font-weight: bold;display: inline-block;line-height: 1.2em;}#sk-container-id-6 div.sk-label-container {text-align: center;}#sk-container-id-6 div.sk-container {/* jupyter's `normalize.less` sets `[hidden] { display: none; }` but bootstrap.min.css set `[hidden] { display: none !important; }` so we also need the `!important` here to be able to override the default hidden behavior on the sphinx rendered scikit-learn.org. See: https://github.com/scikit-learn/scikit-learn/issues/21755 */display: inline-block !important;position: relative;}#sk-container-id-6 div.sk-text-repr-fallback {display: none;}</style><div id=\"sk-container-id-6\" class=\"sk-top-container\"><div class=\"sk-text-repr-fallback\"><pre>LogisticRegression()</pre><b>In a Jupyter environment, please rerun this cell to show the HTML representation or trust the notebook. <br />On GitHub, the HTML representation is unable to render, please try loading this page with nbviewer.org.</b></div><div class=\"sk-container\" hidden><div class=\"sk-item\"><div class=\"sk-estimator sk-toggleable\"><input class=\"sk-toggleable__control sk-hidden--visually\" id=\"sk-estimator-id-6\" type=\"checkbox\" checked><label for=\"sk-estimator-id-6\" class=\"sk-toggleable__label sk-toggleable__label-arrow\">LogisticRegression</label><div class=\"sk-toggleable__content\"><pre>LogisticRegression()</pre></div></div></div></div></div>"
      ],
      "text/plain": [
       "LogisticRegression()"
      ]
     },
     "execution_count": 57,
     "metadata": {},
     "output_type": "execute_result"
    }
   ],
   "source": [
    "# Initialize the models and train them\n",
    "# Logistic Regression with BOW\n",
    "model_lr_bow = LogisticRegression()\n",
    "model_lr_bow.fit(X_train, y_train)\n"
   ]
  },
  {
   "cell_type": "code",
   "execution_count": 58,
   "id": "13c035c7",
   "metadata": {},
   "outputs": [
    {
     "name": "stdout",
     "output_type": "stream",
     "text": [
      "0.9967105263157895\n",
      "0.7253521126760564\n"
     ]
    }
   ],
   "source": [
    "# Evaluate the models on the test set\n",
    "# Logistic Regression with BOW\n",
    "lr_bow_train_score = model_lr_bow.score(X_train, y_train)\n",
    "lr_bow_test_score = model_lr_bow.score(X_test, y_test)\n",
    "\n",
    "print(lr_bow_train_score)\n",
    "print(lr_bow_test_score)"
   ]
  },
  {
   "cell_type": "markdown",
   "id": "bf9a1765",
   "metadata": {},
   "source": [
    "Naive Bayes is selected for its effectiveness in handling text data. It's also based on the BOW representation, Naive Bayes makes strong independence assumptions between features, which can work well with BOW. It's computationally efficient and often used in text classification tasks."
   ]
  },
  {
   "cell_type": "code",
   "execution_count": 64,
   "id": "63103ff9",
   "metadata": {},
   "outputs": [],
   "source": [
    "# Naive Bayes with BOW\n",
    "model_nb_bow = MultinomialNB()\n",
    "model_nb_bow.fit(X_train, y_train)\n",
    "# Scores\n",
    "nb_bow_train_score = model_nb_bow.score(X_train, y_train)\n",
    "nb_bow_test_score = model_nb_bow.score(X_test, y_test)\n"
   ]
  },
  {
   "cell_type": "markdown",
   "id": "f925cba0",
   "metadata": {},
   "source": [
    "Random Forest is a more complex model capable of capturing non-linear relationships in the data. It uses BOW features.\n",
    "Reason: Random Forest can capture intricate patterns in text data and provide better generalization by aggregating multiple decision trees."
   ]
  },
  {
   "cell_type": "code",
   "execution_count": 65,
   "id": "e7114be2",
   "metadata": {},
   "outputs": [
    {
     "data": {
      "text/html": [
       "<style>#sk-container-id-9 {color: black;}#sk-container-id-9 pre{padding: 0;}#sk-container-id-9 div.sk-toggleable {background-color: white;}#sk-container-id-9 label.sk-toggleable__label {cursor: pointer;display: block;width: 100%;margin-bottom: 0;padding: 0.3em;box-sizing: border-box;text-align: center;}#sk-container-id-9 label.sk-toggleable__label-arrow:before {content: \"▸\";float: left;margin-right: 0.25em;color: #696969;}#sk-container-id-9 label.sk-toggleable__label-arrow:hover:before {color: black;}#sk-container-id-9 div.sk-estimator:hover label.sk-toggleable__label-arrow:before {color: black;}#sk-container-id-9 div.sk-toggleable__content {max-height: 0;max-width: 0;overflow: hidden;text-align: left;background-color: #f0f8ff;}#sk-container-id-9 div.sk-toggleable__content pre {margin: 0.2em;color: black;border-radius: 0.25em;background-color: #f0f8ff;}#sk-container-id-9 input.sk-toggleable__control:checked~div.sk-toggleable__content {max-height: 200px;max-width: 100%;overflow: auto;}#sk-container-id-9 input.sk-toggleable__control:checked~label.sk-toggleable__label-arrow:before {content: \"▾\";}#sk-container-id-9 div.sk-estimator input.sk-toggleable__control:checked~label.sk-toggleable__label {background-color: #d4ebff;}#sk-container-id-9 div.sk-label input.sk-toggleable__control:checked~label.sk-toggleable__label {background-color: #d4ebff;}#sk-container-id-9 input.sk-hidden--visually {border: 0;clip: rect(1px 1px 1px 1px);clip: rect(1px, 1px, 1px, 1px);height: 1px;margin: -1px;overflow: hidden;padding: 0;position: absolute;width: 1px;}#sk-container-id-9 div.sk-estimator {font-family: monospace;background-color: #f0f8ff;border: 1px dotted black;border-radius: 0.25em;box-sizing: border-box;margin-bottom: 0.5em;}#sk-container-id-9 div.sk-estimator:hover {background-color: #d4ebff;}#sk-container-id-9 div.sk-parallel-item::after {content: \"\";width: 100%;border-bottom: 1px solid gray;flex-grow: 1;}#sk-container-id-9 div.sk-label:hover label.sk-toggleable__label {background-color: #d4ebff;}#sk-container-id-9 div.sk-serial::before {content: \"\";position: absolute;border-left: 1px solid gray;box-sizing: border-box;top: 0;bottom: 0;left: 50%;z-index: 0;}#sk-container-id-9 div.sk-serial {display: flex;flex-direction: column;align-items: center;background-color: white;padding-right: 0.2em;padding-left: 0.2em;position: relative;}#sk-container-id-9 div.sk-item {position: relative;z-index: 1;}#sk-container-id-9 div.sk-parallel {display: flex;align-items: stretch;justify-content: center;background-color: white;position: relative;}#sk-container-id-9 div.sk-item::before, #sk-container-id-9 div.sk-parallel-item::before {content: \"\";position: absolute;border-left: 1px solid gray;box-sizing: border-box;top: 0;bottom: 0;left: 50%;z-index: -1;}#sk-container-id-9 div.sk-parallel-item {display: flex;flex-direction: column;z-index: 1;position: relative;background-color: white;}#sk-container-id-9 div.sk-parallel-item:first-child::after {align-self: flex-end;width: 50%;}#sk-container-id-9 div.sk-parallel-item:last-child::after {align-self: flex-start;width: 50%;}#sk-container-id-9 div.sk-parallel-item:only-child::after {width: 0;}#sk-container-id-9 div.sk-dashed-wrapped {border: 1px dashed gray;margin: 0 0.4em 0.5em 0.4em;box-sizing: border-box;padding-bottom: 0.4em;background-color: white;}#sk-container-id-9 div.sk-label label {font-family: monospace;font-weight: bold;display: inline-block;line-height: 1.2em;}#sk-container-id-9 div.sk-label-container {text-align: center;}#sk-container-id-9 div.sk-container {/* jupyter's `normalize.less` sets `[hidden] { display: none; }` but bootstrap.min.css set `[hidden] { display: none !important; }` so we also need the `!important` here to be able to override the default hidden behavior on the sphinx rendered scikit-learn.org. See: https://github.com/scikit-learn/scikit-learn/issues/21755 */display: inline-block !important;position: relative;}#sk-container-id-9 div.sk-text-repr-fallback {display: none;}</style><div id=\"sk-container-id-9\" class=\"sk-top-container\"><div class=\"sk-text-repr-fallback\"><pre>RandomForestClassifier()</pre><b>In a Jupyter environment, please rerun this cell to show the HTML representation or trust the notebook. <br />On GitHub, the HTML representation is unable to render, please try loading this page with nbviewer.org.</b></div><div class=\"sk-container\" hidden><div class=\"sk-item\"><div class=\"sk-estimator sk-toggleable\"><input class=\"sk-toggleable__control sk-hidden--visually\" id=\"sk-estimator-id-9\" type=\"checkbox\" checked><label for=\"sk-estimator-id-9\" class=\"sk-toggleable__label sk-toggleable__label-arrow\">RandomForestClassifier</label><div class=\"sk-toggleable__content\"><pre>RandomForestClassifier()</pre></div></div></div></div></div>"
      ],
      "text/plain": [
       "RandomForestClassifier()"
      ]
     },
     "execution_count": 65,
     "metadata": {},
     "output_type": "execute_result"
    }
   ],
   "source": [
    "# Random Forest with BOW\n",
    "model_rf_bow = RandomForestClassifier()\n",
    "model_rf_bow.fit(X_train, y_train)"
   ]
  },
  {
   "cell_type": "code",
   "execution_count": 66,
   "id": "e2425cbc",
   "metadata": {},
   "outputs": [],
   "source": [
    "\n",
    "# Random Forest with BOW\n",
    "rf_bow_train_score = model_rf_bow.score(X_train, y_train)\n",
    "rf_bow_test_score = model_rf_bow.score(X_test, y_test)\n"
   ]
  },
  {
   "cell_type": "markdown",
   "id": "b8d2905b",
   "metadata": {},
   "source": [
    "TF-IDF\n"
   ]
  },
  {
   "cell_type": "markdown",
   "id": "e735b951",
   "metadata": {},
   "source": [
    "Term Frequency-Inverse Document Frequency (TF-IDF):\n",
    "\n",
    "BOW treats all words equally, including common ones that may not be informative for classification.\n",
    "TF-IDF addresses this by giving higher scores to words that are frequent in a specific document but rare across the entire corpus. \n",
    "That helps emphasize discriminative terms for classification and reduces the impact of common words like \"the\" and \"and.\""
   ]
  },
  {
   "cell_type": "code",
   "execution_count": 67,
   "id": "58eb49f7",
   "metadata": {},
   "outputs": [],
   "source": [
    "\n",
    "# Repeat the same steps for TF-IDF\n",
    "X_train_tfidf, X_test_tfidf, y_train_tfidf, y_test_tfidf = train_test_split(tf_df, df1['label'], stratify=df1['label'])\n"
   ]
  },
  {
   "cell_type": "markdown",
   "id": "52a13c47",
   "metadata": {},
   "source": [
    "Logistic Regression with the Term Frequency-Inverse Document Frequency (TF-IDF) representation. \n",
    "TF-IDF assigns weights to words based on their importance that can highlight the significance of words in documents, and Logistic Regression can efficiently handle these weighted features."
   ]
  },
  {
   "cell_type": "code",
   "execution_count": 68,
   "id": "9679abce",
   "metadata": {},
   "outputs": [],
   "source": [
    "# Logistic Regression with TF-IDF\n",
    "model_lr_tfidf = LogisticRegression()\n",
    "model_lr_tfidf.fit(X_train_tfidf, y_train_tfidf)\n",
    "# Evaluate the models on the test set\n",
    "# Logistic Regression with TF-IDF\n",
    "lr_tfidf_train_score = model_lr_tfidf.score(X_train_tfidf, y_train_tfidf)\n",
    "lr_tfidf_test_score = model_lr_tfidf.score(X_test_tfidf, y_test_tfidf)\n"
   ]
  },
  {
   "cell_type": "markdown",
   "id": "07f2f55e",
   "metadata": {},
   "source": [
    "Naive Bayes with TF-IDF is a robust choice when considering term importance. \n",
    "Very useful when certain words are more informative."
   ]
  },
  {
   "cell_type": "code",
   "execution_count": 69,
   "id": "2df91114",
   "metadata": {},
   "outputs": [],
   "source": [
    "# Naive Bayes with TF-IDF\n",
    "model_nb_tfidf = MultinomialNB()\n",
    "model_nb_tfidf.fit(X_train_tfidf, y_train_tfidf)\n",
    "\n",
    "# Naive Bayes with TF-IDF\n",
    "nb_tfidf_train_score = model_nb_tfidf.score(X_train_tfidf, y_train_tfidf)\n",
    "nb_tfidf_test_score = model_nb_tfidf.score(X_test_tfidf, y_test_tfidf)\n"
   ]
  },
  {
   "cell_type": "markdown",
   "id": "febe88d2",
   "metadata": {},
   "source": [
    "Random Forest is used with TF-IDF features for its ability to handle high-dimensional data and can effectively exploit the weighted word features provided by TF-IDF."
   ]
  },
  {
   "cell_type": "code",
   "execution_count": 70,
   "id": "3fbde719",
   "metadata": {},
   "outputs": [],
   "source": [
    "# Random Forest with TF-IDF\n",
    "model_rf_tfidf = RandomForestClassifier()\n",
    "model_rf_tfidf.fit(X_train_tfidf, y_train_tfidf)\n",
    "# Random Forest with TF-IDF\n",
    "rf_tfidf_train_score = model_rf_tfidf.score(X_train_tfidf, y_train_tfidf)\n",
    "rf_tfidf_test_score = model_rf_tfidf.score(X_test_tfidf, y_test_tfidf)"
   ]
  },
  {
   "cell_type": "markdown",
   "id": "e46226f5",
   "metadata": {},
   "source": [
    "Comparaison between all model choosen"
   ]
  },
  {
   "cell_type": "code",
   "execution_count": 71,
   "id": "c44b0ede",
   "metadata": {},
   "outputs": [
    {
     "name": "stdout",
     "output_type": "stream",
     "text": [
      "                             Model  Train Score (BOW)  Test Score (BOW)  \\\n",
      "0     Logistic Regression with BOW           0.996711          0.725352   \n",
      "1             Naive Bayes with BOW           0.934680          0.715493   \n",
      "2           Random Forest with BOW           0.998590          0.721127   \n",
      "3  Logistic Regression with TF-IDF           0.000000          0.000000   \n",
      "4          Naive Bayes with TF-IDF           0.000000          0.000000   \n",
      "5        Random Forest with TF-IDF           0.000000          0.000000   \n",
      "\n",
      "   Train Score (TF-IDF)  Test Score (TF-IDF)  \n",
      "0              0.000000             0.000000  \n",
      "1              0.000000             0.000000  \n",
      "2              0.000000             0.000000  \n",
      "3              0.915414             0.738028  \n",
      "4              0.866071             0.695775  \n",
      "5              0.999530             0.715493  \n"
     ]
    }
   ],
   "source": [
    "import pandas as pd\n",
    "\n",
    "# Create a dictionary with the model names and their respective scores\n",
    "scores_data = {\n",
    "    'Model': ['Logistic Regression with BOW', 'Naive Bayes with BOW', 'Random Forest with BOW',\n",
    "              'Logistic Regression with TF-IDF', 'Naive Bayes with TF-IDF', 'Random Forest with TF-IDF'],\n",
    "    'Train Score (BOW)': [lr_bow_train_score, nb_bow_train_score, rf_bow_train_score, 0, 0, 0],\n",
    "    'Test Score (BOW)': [lr_bow_test_score, nb_bow_test_score, rf_bow_test_score, 0, 0, 0],\n",
    "    'Train Score (TF-IDF)': [0, 0, 0, lr_tfidf_train_score, nb_tfidf_train_score, rf_tfidf_train_score],\n",
    "    'Test Score (TF-IDF)': [0, 0, 0, lr_tfidf_test_score, nb_tfidf_test_score, rf_tfidf_test_score]\n",
    "}\n",
    "\n",
    "# Create a Pandas DataFrame\n",
    "scores_df = pd.DataFrame(scores_data)\n",
    "\n",
    "# Display the comparison table\n",
    "print(scores_df)\n"
   ]
  },
  {
   "cell_type": "code",
   "execution_count": 72,
   "id": "c0249950",
   "metadata": {},
   "outputs": [
    {
     "data": {
      "image/png": "[encoded data removed]",
      "text/plain": [
       "<Figure size 864x432 with 1 Axes>"
      ]
     },
     "metadata": {
      "needs_background": "light"
     },
     "output_type": "display_data"
    }
   ],
   "source": [
    "import pandas as pd\n",
    "import matplotlib.pyplot as plt\n",
    "\n",
    "# Create a dictionary with the model names and their respective scores\n",
    "scores_data = {\n",
    "    'Model': ['Logistic Regression with BOW', 'Naive Bayes with BOW', 'Random Forest with BOW',\n",
    "              'Logistic Regression with TF-IDF', 'Naive Bayes with TF-IDF', 'Random Forest with TF-IDF'],\n",
    "    'Train Score (BOW)': [lr_bow_train_score, nb_bow_train_score, rf_bow_train_score, 0, 0, 0],\n",
    "    'Test Score (BOW)': [lr_bow_test_score, nb_bow_test_score, rf_bow_test_score, 0, 0, 0],\n",
    "    'Train Score (TF-IDF)': [0, 0, 0, lr_tfidf_train_score, nb_tfidf_train_score, rf_tfidf_train_score],\n",
    "    'Test Score (TF-IDF)': [0, 0, 0, lr_tfidf_test_score, nb_tfidf_test_score, rf_tfidf_test_score]\n",
    "}\n",
    "\n",
    "# Create a Pandas DataFrame\n",
    "scores_df = pd.DataFrame(scores_data)\n",
    "\n",
    "# Set the 'Model' column as the index\n",
    "scores_df.set_index('Model', inplace=True)\n",
    "\n",
    "# Plot a bar chart for comparison\n",
    "ax = scores_df.plot(kind='bar', figsize=(12, 6), rot=45)  # Rotate x-axis labels by 45 degrees\n",
    "ax.set_ylabel('Score')\n",
    "ax.set_title('Model Comparison with Scores')\n",
    "\n",
    "# Show the table and chart\n",
    "plt.show()\n"
   ]
  },
  {
   "cell_type": "markdown",
   "id": "683ab253",
   "metadata": {},
   "source": [
    "Random Forest seems to be the best model to choose to continue our studies."
   ]
  },
  {
   "cell_type": "code",
   "execution_count": null,
   "id": "8d07f158",
   "metadata": {},
   "outputs": [],
   "source": []
  }
 ],
 "metadata": {
  "kernelspec": {
   "display_name": "Python 3 (ipykernel)",
   "language": "python",
   "name": "python3"
  },
  "language_info": {
   "codemirror_mode": {
    "name": "ipython",
    "version": 3
   },
   "file_extension": ".py",
   "mimetype": "text/x-python",
   "name": "python",
   "nbconvert_exporter": "python",
   "pygments_lexer": "ipython3",
   "version": "3.9.7"
  }
 },
 "nbformat": 4,
 "nbformat_minor": 5
}
