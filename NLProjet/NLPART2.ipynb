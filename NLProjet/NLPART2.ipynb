{
 "cells": [
  {
   "cell_type": "markdown",
   "id": "5eeca778",
   "metadata": {
    "id": "5eeca778"
   },
   "source": [
    "# Part 2"
   ]
  },
  {
   "cell_type": "markdown",
   "id": "bf865172",
   "metadata": {
    "id": "bf865172"
   },
   "source": [
    "This notebook includes a comparison of the performance of the selected models. It presents a table and a bar chart to visualize and compare the training and testing scores of these models using both BOW and TF-IDF representations.\n",
    "We use these techniques and models to explore text classification, and the choice of representation and model depends on the specific goals and characteristics of the dataset. The comparison of the models provides insight into their relative performance for the task of classifying stress-related messages."
   ]
  },
  {
   "cell_type": "markdown",
   "id": "7e0d56de",
   "metadata": {
    "id": "7e0d56de"
   },
   "source": [
    "### Pre-processing"
   ]
  },
  {
   "cell_type": "code",
   "execution_count": 1,
   "id": "27ae6424",
   "metadata": {
    "colab": {
     "base_uri": "https://localhost:8080/"
    },
    "id": "27ae6424",
    "outputId": "8f7c9b71-cc0c-492f-8224-c2f4e419a639"
   },
   "outputs": [
    {
     "name": "stdout",
     "output_type": "stream",
     "text": [
      "<bound method DataFrame.info of                                                    text  label\n",
      "0     He said he had not felt that way before, sugge...      1\n",
      "1     Hey there r/assistance, Not sure if this is th...      0\n",
      "2     My mom then hit me with the newspaper and it s...      1\n",
      "3     until i met my new boyfriend, he is amazing, h...      1\n",
      "4     October is Domestic Violence Awareness Month a...      1\n",
      "...                                                 ...    ...\n",
      "2833  * Her, a week ago: Precious, how are you? (I i...      0\n",
      "2834  I don't have the ability to cope with it anymo...      1\n",
      "2835  In case this is the first time you're reading ...      0\n",
      "2836  Do you find this normal? They have a good rela...      0\n",
      "2837  I was talking to my mom this morning and she s...      1\n",
      "\n",
      "[2838 rows x 2 columns]>\n"
     ]
    },
    {
     "name": "stderr",
     "output_type": "stream",
     "text": [
      "[nltk_data] Downloading package omw-1.4 to\n",
      "[nltk_data]     C:\\Users\\nicol\\AppData\\Roaming\\nltk_data...\n",
      "[nltk_data]   Package omw-1.4 is already up-to-date!\n",
      "[nltk_data] Downloading package wordnet to\n",
      "[nltk_data]     C:\\Users\\nicol\\AppData\\Roaming\\nltk_data...\n",
      "[nltk_data]   Package wordnet is already up-to-date!\n",
      "[nltk_data] Downloading package wordnet2022 to\n",
      "[nltk_data]     C:\\Users\\nicol\\AppData\\Roaming\\nltk_data...\n",
      "[nltk_data]   Package wordnet2022 is already up-to-date!\n",
      "[nltk_data] Downloading package punkt to\n",
      "[nltk_data]     C:\\Users\\nicol\\AppData\\Roaming\\nltk_data...\n",
      "[nltk_data]   Package punkt is already up-to-date!\n",
      "[nltk_data] Downloading package stopwords to\n",
      "[nltk_data]     C:\\Users\\nicol\\AppData\\Roaming\\nltk_data...\n",
      "[nltk_data]   Package stopwords is already up-to-date!\n"
     ]
    }
   ],
   "source": [
    "\n",
    "#Data Loading and Exploration\n",
    "\n",
    "import numpy as np # linear algebra\n",
    "import pandas as pd # data processing\n",
    "import numpy as np # linear algebra\n",
    "\n",
    "df = pd.read_csv(\"Stress.csv\")\n",
    "\n",
    "not_used_cols = ['subreddit','post_id','sentence_range','confidence','social_timestamp']\n",
    "df1 = df.drop(not_used_cols,axis=1)\n",
    "df1['label'].unique()\n",
    "#Text processing\n",
    "\n",
    "import nltk\n",
    "import re\n",
    "from urllib.parse import urlparse\n",
    "#from spacy import load\n",
    "from nltk.stem import WordNetLemmatizer\n",
    "from nltk.corpus import stopwords\n",
    "from nltk.tokenize import word_tokenize\n",
    "nltk.download('omw-1.4') # Open Multilingual Wordnet, this is an lexical database\n",
    "nltk.download('wordnet')\n",
    "nltk.download('wordnet2022')\n",
    "nltk.download('punkt')\n",
    "nltk.download('stopwords')\n",
    "print(df1.info)"
   ]
  },
  {
   "cell_type": "code",
   "execution_count": 2,
   "id": "c43610fd",
   "metadata": {
    "id": "c43610fd"
   },
   "outputs": [],
   "source": [
    "lemmatizer = WordNetLemmatizer()\n",
    "stop_words = list(stopwords.words('english'))\n",
    "def textProcess(sent):\n",
    "    try:\n",
    "        # Replace square brackets, parentheses with spaces\n",
    "        sent = re.sub('[][)(]', ' ', sent)\n",
    "\n",
    "        # Remove URLs by checking if a word has a URL scheme\n",
    "        sent = [word for word in sent.split() if not urlparse(word).scheme]\n",
    "        sent = ' '.join(sent)\n",
    "\n",
    "        # Remove escape characters starting with '@'\n",
    "        sent = re.sub(r'\\@\\w+', '', sent)\n",
    "\n",
    "        # Remove HTML tags using regular expressions\n",
    "        sent = re.sub(re.compile(\"<.*?>\"), '', sent)\n",
    "\n",
    "        # Keep only letters and numbers, replace others with spaces\n",
    "        sent = re.sub(\"[^A-Za-z0-9]\", ' ', sent)\n",
    "\n",
    "        # Convert all words to lowercase\n",
    "        sent = sent.lower()\n",
    "\n",
    "        # Strip extra spaces from words and sentences\n",
    "        sent = [word.strip() for word in sent.split()]\n",
    "        sent = ' '.join(sent)\n",
    "\n",
    "        # Tokenize the text into words\n",
    "        tokens = word_tokenize(sent)\n",
    "\n",
    "        # Remove stopwords (common words that don't carry much meaning)\n",
    "        tokens = [word for word in tokens if word not in stop_words]\n",
    "\n",
    "        # Lemmatize the words (convert words to their base form)\n",
    "        sent = [lemmatizer.lemmatize(word) for word in tokens]\n",
    "        sent = ' '.join(sent)\n",
    "\n",
    "        return sent\n",
    "\n",
    "    except Exception as ex:\n",
    "        # Handle exceptions and print an error message\n",
    "        print(sent, \"\\n\")\n",
    "        print(\"Error \", ex)\n"
   ]
  },
  {
   "cell_type": "code",
   "execution_count": 3,
   "id": "b3f7ec7e",
   "metadata": {
    "colab": {
     "base_uri": "https://localhost:8080/"
    },
    "id": "b3f7ec7e",
    "outputId": "15519ab7-07ec-4d97-880a-1fce2e1d1468"
   },
   "outputs": [
    {
     "data": {
      "text/plain": [
       "<bound method Series.info of 0       said felt way suggeted go rest trigger ahead y...\n",
       "1       hey r assistance sure right place post go curr...\n",
       "2       mom hit newspaper shocked would know like play...\n",
       "3       met new boyfriend amazing kind sweet good stud...\n",
       "4       october domestic violence awareness month dome...\n",
       "                              ...                        \n",
       "2833    week precious ignored jan happy year precious ...\n",
       "2834    ability cope anymore trying lot thing triggeri...\n",
       "2835    case first time reading post looking people wi...\n",
       "2836    find normal good relationship main problem see...\n",
       "2837    talking mom morning said sister trauma worse m...\n",
       "Name: processed_text, Length: 2838, dtype: object>"
      ]
     },
     "execution_count": 3,
     "metadata": {},
     "output_type": "execute_result"
    }
   ],
   "source": [
    "df1['processed_text'] = df1['text'].apply(lambda text: textProcess(text))\n",
    "df1['processed_text'].info"
   ]
  },
  {
   "cell_type": "markdown",
   "id": "a744bfe0",
   "metadata": {
    "id": "a744bfe0"
   },
   "source": [
    "## BOW (Bag Of Word) / TF-IDF"
   ]
  },
  {
   "cell_type": "markdown",
   "id": "453968a3",
   "metadata": {
    "id": "453968a3"
   },
   "source": [
    "\n",
    "### Bag of Words (BOW):\n",
    "\n",
    "BOW is a straightforward and effective method for text classification with a quickly understand of the word frequency distribution in documents, which is essential for our classification task. BOW identifying important keywords in documents, aiding our content comprehension by highlighting key terms."
   ]
  },
  {
   "cell_type": "code",
   "execution_count": 4,
   "id": "5bdda422",
   "metadata": {
    "id": "5bdda422"
   },
   "outputs": [],
   "source": [
    "lemmatizer = WordNetLemmatizer()\n",
    "stop_words = list(stopwords.words('english'))\n",
    "def textProcess(sent):\n",
    "    try:\n",
    "        # Replace square brackets, parentheses with spaces\n",
    "        sent = re.sub('[][)(]', ' ', sent)\n",
    "\n",
    "        # Remove URLs by checking if a word has a URL scheme\n",
    "        sent = [word for word in sent.split() if not urlparse(word).scheme]\n",
    "        sent = ' '.join(sent)\n",
    "\n",
    "        # Remove escape characters starting with '@'\n",
    "        sent = re.sub(r'\\@\\w+', '', sent)\n",
    "\n",
    "        # Remove HTML tags using regular expressions\n",
    "        sent = re.sub(re.compile(\"<.*?>\"), '', sent)\n",
    "\n",
    "        # Keep only letters and numbers, replace others with spaces\n",
    "        sent = re.sub(\"[^A-Za-z0-9]\", ' ', sent)\n",
    "\n",
    "        # Convert all words to lowercase\n",
    "        sent = sent.lower()\n",
    "\n",
    "        # Strip extra spaces from words and sentences\n",
    "        sent = [word.strip() for word in sent.split()]\n",
    "        sent = ' '.join(sent)\n",
    "\n",
    "        # Tokenize the text into words\n",
    "        tokens = word_tokenize(sent)\n",
    "\n",
    "        # Remove stopwords (common words that don't carry much meaning)\n",
    "        tokens = [word for word in tokens if word not in stop_words]\n",
    "\n",
    "        # Lemmatize the words (convert words to their base form)\n",
    "        sent = [lemmatizer.lemmatize(word) for word in tokens]\n",
    "        sent = ' '.join(sent)\n",
    "\n",
    "        return sent\n",
    "\n",
    "    except Exception as ex:\n",
    "        # Handle exceptions and print an error message\n",
    "        print(sent, \"\\n\")\n",
    "        print(\"Error \", ex)\n"
   ]
  },
  {
   "cell_type": "code",
   "execution_count": 5,
   "id": "9dd076d9",
   "metadata": {
    "id": "9dd076d9"
   },
   "outputs": [],
   "source": [
    "df1['processed_text'] = df1['text'].apply(lambda text: textProcess(text))"
   ]
  },
  {
   "cell_type": "markdown",
   "id": "01f7a4de",
   "metadata": {
    "id": "01f7a4de"
   },
   "source": [
    "# Part 2"
   ]
  },
  {
   "cell_type": "markdown",
   "id": "e68d0e80",
   "metadata": {
    "id": "e68d0e80"
   },
   "source": [
    "Bag of Words (BOW):\n",
    "\n",
    "BOW is a straightforward and effective method for text classification with a quickly understand of the word frequency distribution in documents, which is essential for our classification task. BOW identifying important keywords in documents, aiding our content comprehension by highlighting key terms."
   ]
  },
  {
   "cell_type": "code",
   "execution_count": 6,
   "id": "9e37139f",
   "metadata": {
    "colab": {
     "base_uri": "https://localhost:8080/",
     "height": 173
    },
    "id": "9e37139f",
    "outputId": "7325e372-af0c-4540-e6b8-6f3e4571d6b0"
   },
   "outputs": [
    {
     "data": {
      "text/html": [
       "<div>\n",
       "<style scoped>\n",
       "    .dataframe tbody tr th:only-of-type {\n",
       "        vertical-align: middle;\n",
       "    }\n",
       "\n",
       "    .dataframe tbody tr th {\n",
       "        vertical-align: top;\n",
       "    }\n",
       "\n",
       "    .dataframe thead th {\n",
       "        text-align: right;\n",
       "    }\n",
       "</style>\n",
       "<table border=\"1\" class=\"dataframe\">\n",
       "  <thead>\n",
       "    <tr style=\"text-align: right;\">\n",
       "      <th></th>\n",
       "      <th>00</th>\n",
       "      <th>000</th>\n",
       "      <th>02</th>\n",
       "      <th>06</th>\n",
       "      <th>10</th>\n",
       "      <th>100</th>\n",
       "      <th>1000</th>\n",
       "      <th>100kg</th>\n",
       "      <th>100mg</th>\n",
       "      <th>100x</th>\n",
       "      <th>...</th>\n",
       "      <th>zines</th>\n",
       "      <th>zinsser</th>\n",
       "      <th>zip</th>\n",
       "      <th>zofran</th>\n",
       "      <th>zoloft</th>\n",
       "      <th>zombie</th>\n",
       "      <th>zone</th>\n",
       "      <th>zoo</th>\n",
       "      <th>zuko</th>\n",
       "      <th>zumba</th>\n",
       "    </tr>\n",
       "  </thead>\n",
       "  <tbody>\n",
       "    <tr>\n",
       "      <th>0</th>\n",
       "      <td>0</td>\n",
       "      <td>0</td>\n",
       "      <td>0</td>\n",
       "      <td>0</td>\n",
       "      <td>0</td>\n",
       "      <td>0</td>\n",
       "      <td>0</td>\n",
       "      <td>0</td>\n",
       "      <td>0</td>\n",
       "      <td>0</td>\n",
       "      <td>...</td>\n",
       "      <td>0</td>\n",
       "      <td>0</td>\n",
       "      <td>0</td>\n",
       "      <td>0</td>\n",
       "      <td>0</td>\n",
       "      <td>0</td>\n",
       "      <td>0</td>\n",
       "      <td>0</td>\n",
       "      <td>0</td>\n",
       "      <td>0</td>\n",
       "    </tr>\n",
       "    <tr>\n",
       "      <th>1</th>\n",
       "      <td>0</td>\n",
       "      <td>0</td>\n",
       "      <td>0</td>\n",
       "      <td>0</td>\n",
       "      <td>0</td>\n",
       "      <td>0</td>\n",
       "      <td>0</td>\n",
       "      <td>0</td>\n",
       "      <td>0</td>\n",
       "      <td>0</td>\n",
       "      <td>...</td>\n",
       "      <td>0</td>\n",
       "      <td>0</td>\n",
       "      <td>0</td>\n",
       "      <td>0</td>\n",
       "      <td>0</td>\n",
       "      <td>0</td>\n",
       "      <td>0</td>\n",
       "      <td>0</td>\n",
       "      <td>0</td>\n",
       "      <td>0</td>\n",
       "    </tr>\n",
       "    <tr>\n",
       "      <th>2</th>\n",
       "      <td>0</td>\n",
       "      <td>0</td>\n",
       "      <td>0</td>\n",
       "      <td>0</td>\n",
       "      <td>0</td>\n",
       "      <td>0</td>\n",
       "      <td>0</td>\n",
       "      <td>0</td>\n",
       "      <td>0</td>\n",
       "      <td>0</td>\n",
       "      <td>...</td>\n",
       "      <td>0</td>\n",
       "      <td>0</td>\n",
       "      <td>0</td>\n",
       "      <td>0</td>\n",
       "      <td>0</td>\n",
       "      <td>0</td>\n",
       "      <td>0</td>\n",
       "      <td>0</td>\n",
       "      <td>0</td>\n",
       "      <td>0</td>\n",
       "    </tr>\n",
       "  </tbody>\n",
       "</table>\n",
       "<p>3 rows × 10140 columns</p>\n",
       "</div>"
      ],
      "text/plain": [
       "   00  000  02  06  10  100  1000  100kg  100mg  100x  ...  zines  zinsser  \\\n",
       "0   0    0   0   0   0    0     0      0      0     0  ...      0        0   \n",
       "1   0    0   0   0   0    0     0      0      0     0  ...      0        0   \n",
       "2   0    0   0   0   0    0     0      0      0     0  ...      0        0   \n",
       "\n",
       "   zip  zofran  zoloft  zombie  zone  zoo  zuko  zumba  \n",
       "0    0       0       0       0     0    0     0      0  \n",
       "1    0       0       0       0     0    0     0      0  \n",
       "2    0       0       0       0     0    0     0      0  \n",
       "\n",
       "[3 rows x 10140 columns]"
      ]
     },
     "execution_count": 6,
     "metadata": {},
     "output_type": "execute_result"
    }
   ],
   "source": [
    "from sklearn.feature_extraction.text import CountVectorizer\n",
    "MIN_DF = 1\n",
    "# min_df is used for removing terms that appear too infrequently.\n",
    "# For example: min_df = 0.01 means \"ignore terms that appear in less than 1% of the documents\".\n",
    "cv = CountVectorizer(min_df=MIN_DF)\n",
    "cv_df = cv.fit_transform(df1['processed_text'])\n",
    "cv_df.toarray()\n",
    "\n",
    "cv_df = pd.DataFrame(cv_df.toarray(),columns=cv.get_feature_names_out())\n",
    "cv_df.head(3)"
   ]
  },
  {
   "cell_type": "markdown",
   "id": "7f2cf371",
   "metadata": {
    "id": "7f2cf371"
   },
   "source": [
    "### Term Frequency-Inverse Document Frequency (TF-IDF):"
   ]
  },
  {
   "cell_type": "markdown",
   "id": "cd57e939",
   "metadata": {
    "id": "cd57e939"
   },
   "source": [
    "\n",
    "TF-IDF addresses this by giving higher scores to words that are frequent in a specific document but rare across the entire corpus.\n",
    "That helps emphasize discriminative terms for classification and reduces the impact of common words like \"the\" and \"and.\""
   ]
  },
  {
   "cell_type": "markdown",
   "id": "f8c9883d",
   "metadata": {
    "id": "f8c9883d"
   },
   "source": [
    "TF-IDF (Term frequency - inverse document frequency)"
   ]
  },
  {
   "cell_type": "code",
   "execution_count": 7,
   "id": "02d786ab",
   "metadata": {
    "colab": {
     "base_uri": "https://localhost:8080/"
    },
    "id": "02d786ab",
    "outputId": "67b4e2a4-89dd-43bf-c4fe-a5aa43b7d044"
   },
   "outputs": [
    {
     "data": {
      "text/plain": [
       "array([[0., 0., 0., ..., 0., 0., 0.],\n",
       "       [0., 0., 0., ..., 0., 0., 0.],\n",
       "       [0., 0., 0., ..., 0., 0., 0.],\n",
       "       ...,\n",
       "       [0., 0., 0., ..., 0., 0., 0.],\n",
       "       [0., 0., 0., ..., 0., 0., 0.],\n",
       "       [0., 0., 0., ..., 0., 0., 0.]])"
      ]
     },
     "execution_count": 7,
     "metadata": {},
     "output_type": "execute_result"
    }
   ],
   "source": [
    "from sklearn.feature_extraction.text import TfidfVectorizer\n",
    "tf = TfidfVectorizer(min_df=MIN_DF)\n",
    "tf_df = tf.fit_transform(df1['processed_text'])\n",
    "tf_df.toarray()\n"
   ]
  },
  {
   "cell_type": "code",
   "execution_count": null,
   "id": "a01987a2",
   "metadata": {
    "id": "a01987a2"
   },
   "outputs": [],
   "source": []
  },
  {
   "cell_type": "code",
   "execution_count": 8,
   "id": "a0213620",
   "metadata": {
    "colab": {
     "base_uri": "https://localhost:8080/",
     "height": 173
    },
    "id": "a0213620",
    "outputId": "d2a727fa-f2a3-4a32-9485-1ce897a1ad00"
   },
   "outputs": [
    {
     "data": {
      "text/html": [
       "<div>\n",
       "<style scoped>\n",
       "    .dataframe tbody tr th:only-of-type {\n",
       "        vertical-align: middle;\n",
       "    }\n",
       "\n",
       "    .dataframe tbody tr th {\n",
       "        vertical-align: top;\n",
       "    }\n",
       "\n",
       "    .dataframe thead th {\n",
       "        text-align: right;\n",
       "    }\n",
       "</style>\n",
       "<table border=\"1\" class=\"dataframe\">\n",
       "  <thead>\n",
       "    <tr style=\"text-align: right;\">\n",
       "      <th></th>\n",
       "      <th>00</th>\n",
       "      <th>000</th>\n",
       "      <th>02</th>\n",
       "      <th>06</th>\n",
       "      <th>10</th>\n",
       "      <th>100</th>\n",
       "      <th>1000</th>\n",
       "      <th>100kg</th>\n",
       "      <th>100mg</th>\n",
       "      <th>100x</th>\n",
       "      <th>...</th>\n",
       "      <th>zines</th>\n",
       "      <th>zinsser</th>\n",
       "      <th>zip</th>\n",
       "      <th>zofran</th>\n",
       "      <th>zoloft</th>\n",
       "      <th>zombie</th>\n",
       "      <th>zone</th>\n",
       "      <th>zoo</th>\n",
       "      <th>zuko</th>\n",
       "      <th>zumba</th>\n",
       "    </tr>\n",
       "  </thead>\n",
       "  <tbody>\n",
       "    <tr>\n",
       "      <th>0</th>\n",
       "      <td>0.0</td>\n",
       "      <td>0.0</td>\n",
       "      <td>0.0</td>\n",
       "      <td>0.0</td>\n",
       "      <td>0.0</td>\n",
       "      <td>0.0</td>\n",
       "      <td>0.0</td>\n",
       "      <td>0.0</td>\n",
       "      <td>0.0</td>\n",
       "      <td>0.0</td>\n",
       "      <td>...</td>\n",
       "      <td>0.0</td>\n",
       "      <td>0.0</td>\n",
       "      <td>0.0</td>\n",
       "      <td>0.0</td>\n",
       "      <td>0.0</td>\n",
       "      <td>0.0</td>\n",
       "      <td>0.0</td>\n",
       "      <td>0.0</td>\n",
       "      <td>0.0</td>\n",
       "      <td>0.0</td>\n",
       "    </tr>\n",
       "    <tr>\n",
       "      <th>1</th>\n",
       "      <td>0.0</td>\n",
       "      <td>0.0</td>\n",
       "      <td>0.0</td>\n",
       "      <td>0.0</td>\n",
       "      <td>0.0</td>\n",
       "      <td>0.0</td>\n",
       "      <td>0.0</td>\n",
       "      <td>0.0</td>\n",
       "      <td>0.0</td>\n",
       "      <td>0.0</td>\n",
       "      <td>...</td>\n",
       "      <td>0.0</td>\n",
       "      <td>0.0</td>\n",
       "      <td>0.0</td>\n",
       "      <td>0.0</td>\n",
       "      <td>0.0</td>\n",
       "      <td>0.0</td>\n",
       "      <td>0.0</td>\n",
       "      <td>0.0</td>\n",
       "      <td>0.0</td>\n",
       "      <td>0.0</td>\n",
       "    </tr>\n",
       "    <tr>\n",
       "      <th>2</th>\n",
       "      <td>0.0</td>\n",
       "      <td>0.0</td>\n",
       "      <td>0.0</td>\n",
       "      <td>0.0</td>\n",
       "      <td>0.0</td>\n",
       "      <td>0.0</td>\n",
       "      <td>0.0</td>\n",
       "      <td>0.0</td>\n",
       "      <td>0.0</td>\n",
       "      <td>0.0</td>\n",
       "      <td>...</td>\n",
       "      <td>0.0</td>\n",
       "      <td>0.0</td>\n",
       "      <td>0.0</td>\n",
       "      <td>0.0</td>\n",
       "      <td>0.0</td>\n",
       "      <td>0.0</td>\n",
       "      <td>0.0</td>\n",
       "      <td>0.0</td>\n",
       "      <td>0.0</td>\n",
       "      <td>0.0</td>\n",
       "    </tr>\n",
       "  </tbody>\n",
       "</table>\n",
       "<p>3 rows × 10140 columns</p>\n",
       "</div>"
      ],
      "text/plain": [
       "    00  000   02   06   10  100  1000  100kg  100mg  100x  ...  zines  \\\n",
       "0  0.0  0.0  0.0  0.0  0.0  0.0   0.0    0.0    0.0   0.0  ...    0.0   \n",
       "1  0.0  0.0  0.0  0.0  0.0  0.0   0.0    0.0    0.0   0.0  ...    0.0   \n",
       "2  0.0  0.0  0.0  0.0  0.0  0.0   0.0    0.0    0.0   0.0  ...    0.0   \n",
       "\n",
       "   zinsser  zip  zofran  zoloft  zombie  zone  zoo  zuko  zumba  \n",
       "0      0.0  0.0     0.0     0.0     0.0   0.0  0.0   0.0    0.0  \n",
       "1      0.0  0.0     0.0     0.0     0.0   0.0  0.0   0.0    0.0  \n",
       "2      0.0  0.0     0.0     0.0     0.0   0.0  0.0   0.0    0.0  \n",
       "\n",
       "[3 rows x 10140 columns]"
      ]
     },
     "execution_count": 8,
     "metadata": {},
     "output_type": "execute_result"
    }
   ],
   "source": [
    "tf_df = pd.DataFrame(tf_df.toarray(),columns=tf.get_feature_names_out())\n",
    "tf_df.head(3)"
   ]
  },
  {
   "cell_type": "code",
   "execution_count": 9,
   "id": "504a431a",
   "metadata": {
    "colab": {
     "base_uri": "https://localhost:8080/",
     "height": 349
    },
    "id": "504a431a",
    "outputId": "e85b80c3-4218-431b-f536-eb5ac40c0fc6"
   },
   "outputs": [
    {
     "data": {
      "text/html": [
       "<div>\n",
       "<style scoped>\n",
       "    .dataframe tbody tr th:only-of-type {\n",
       "        vertical-align: middle;\n",
       "    }\n",
       "\n",
       "    .dataframe tbody tr th {\n",
       "        vertical-align: top;\n",
       "    }\n",
       "\n",
       "    .dataframe thead th {\n",
       "        text-align: right;\n",
       "    }\n",
       "</style>\n",
       "<table border=\"1\" class=\"dataframe\">\n",
       "  <thead>\n",
       "    <tr style=\"text-align: right;\">\n",
       "      <th></th>\n",
       "      <th>00</th>\n",
       "      <th>000</th>\n",
       "      <th>02</th>\n",
       "      <th>06</th>\n",
       "      <th>10</th>\n",
       "      <th>100</th>\n",
       "      <th>1000</th>\n",
       "      <th>100kg</th>\n",
       "      <th>100mg</th>\n",
       "      <th>100x</th>\n",
       "      <th>...</th>\n",
       "      <th>zines</th>\n",
       "      <th>zinsser</th>\n",
       "      <th>zip</th>\n",
       "      <th>zofran</th>\n",
       "      <th>zoloft</th>\n",
       "      <th>zombie</th>\n",
       "      <th>zone</th>\n",
       "      <th>zoo</th>\n",
       "      <th>zuko</th>\n",
       "      <th>zumba</th>\n",
       "    </tr>\n",
       "  </thead>\n",
       "  <tbody>\n",
       "    <tr>\n",
       "      <th>count</th>\n",
       "      <td>2838.000000</td>\n",
       "      <td>2838.000000</td>\n",
       "      <td>2838.000000</td>\n",
       "      <td>2838.000000</td>\n",
       "      <td>2838.000000</td>\n",
       "      <td>2838.000000</td>\n",
       "      <td>2838.000000</td>\n",
       "      <td>2838.000000</td>\n",
       "      <td>2838.000000</td>\n",
       "      <td>2838.000000</td>\n",
       "      <td>...</td>\n",
       "      <td>2838.000000</td>\n",
       "      <td>2838.000000</td>\n",
       "      <td>2838.000000</td>\n",
       "      <td>2838.000000</td>\n",
       "      <td>2838.000000</td>\n",
       "      <td>2838.000000</td>\n",
       "      <td>2838.000000</td>\n",
       "      <td>2838.000000</td>\n",
       "      <td>2838.000000</td>\n",
       "      <td>2838.000000</td>\n",
       "    </tr>\n",
       "    <tr>\n",
       "      <th>mean</th>\n",
       "      <td>0.000176</td>\n",
       "      <td>0.000570</td>\n",
       "      <td>0.000112</td>\n",
       "      <td>0.000074</td>\n",
       "      <td>0.003420</td>\n",
       "      <td>0.001897</td>\n",
       "      <td>0.000607</td>\n",
       "      <td>0.000106</td>\n",
       "      <td>0.000122</td>\n",
       "      <td>0.000071</td>\n",
       "      <td>...</td>\n",
       "      <td>0.000080</td>\n",
       "      <td>0.000074</td>\n",
       "      <td>0.000212</td>\n",
       "      <td>0.000081</td>\n",
       "      <td>0.000748</td>\n",
       "      <td>0.000136</td>\n",
       "      <td>0.000257</td>\n",
       "      <td>0.000094</td>\n",
       "      <td>0.000058</td>\n",
       "      <td>0.000040</td>\n",
       "    </tr>\n",
       "    <tr>\n",
       "      <th>std</th>\n",
       "      <td>0.006641</td>\n",
       "      <td>0.010400</td>\n",
       "      <td>0.005943</td>\n",
       "      <td>0.003941</td>\n",
       "      <td>0.022159</td>\n",
       "      <td>0.018407</td>\n",
       "      <td>0.011747</td>\n",
       "      <td>0.005624</td>\n",
       "      <td>0.004854</td>\n",
       "      <td>0.003765</td>\n",
       "      <td>...</td>\n",
       "      <td>0.004252</td>\n",
       "      <td>0.003921</td>\n",
       "      <td>0.008125</td>\n",
       "      <td>0.004293</td>\n",
       "      <td>0.012308</td>\n",
       "      <td>0.005144</td>\n",
       "      <td>0.007226</td>\n",
       "      <td>0.004999</td>\n",
       "      <td>0.003113</td>\n",
       "      <td>0.002135</td>\n",
       "    </tr>\n",
       "    <tr>\n",
       "      <th>min</th>\n",
       "      <td>0.000000</td>\n",
       "      <td>0.000000</td>\n",
       "      <td>0.000000</td>\n",
       "      <td>0.000000</td>\n",
       "      <td>0.000000</td>\n",
       "      <td>0.000000</td>\n",
       "      <td>0.000000</td>\n",
       "      <td>0.000000</td>\n",
       "      <td>0.000000</td>\n",
       "      <td>0.000000</td>\n",
       "      <td>...</td>\n",
       "      <td>0.000000</td>\n",
       "      <td>0.000000</td>\n",
       "      <td>0.000000</td>\n",
       "      <td>0.000000</td>\n",
       "      <td>0.000000</td>\n",
       "      <td>0.000000</td>\n",
       "      <td>0.000000</td>\n",
       "      <td>0.000000</td>\n",
       "      <td>0.000000</td>\n",
       "      <td>0.000000</td>\n",
       "    </tr>\n",
       "    <tr>\n",
       "      <th>25%</th>\n",
       "      <td>0.000000</td>\n",
       "      <td>0.000000</td>\n",
       "      <td>0.000000</td>\n",
       "      <td>0.000000</td>\n",
       "      <td>0.000000</td>\n",
       "      <td>0.000000</td>\n",
       "      <td>0.000000</td>\n",
       "      <td>0.000000</td>\n",
       "      <td>0.000000</td>\n",
       "      <td>0.000000</td>\n",
       "      <td>...</td>\n",
       "      <td>0.000000</td>\n",
       "      <td>0.000000</td>\n",
       "      <td>0.000000</td>\n",
       "      <td>0.000000</td>\n",
       "      <td>0.000000</td>\n",
       "      <td>0.000000</td>\n",
       "      <td>0.000000</td>\n",
       "      <td>0.000000</td>\n",
       "      <td>0.000000</td>\n",
       "      <td>0.000000</td>\n",
       "    </tr>\n",
       "    <tr>\n",
       "      <th>50%</th>\n",
       "      <td>0.000000</td>\n",
       "      <td>0.000000</td>\n",
       "      <td>0.000000</td>\n",
       "      <td>0.000000</td>\n",
       "      <td>0.000000</td>\n",
       "      <td>0.000000</td>\n",
       "      <td>0.000000</td>\n",
       "      <td>0.000000</td>\n",
       "      <td>0.000000</td>\n",
       "      <td>0.000000</td>\n",
       "      <td>...</td>\n",
       "      <td>0.000000</td>\n",
       "      <td>0.000000</td>\n",
       "      <td>0.000000</td>\n",
       "      <td>0.000000</td>\n",
       "      <td>0.000000</td>\n",
       "      <td>0.000000</td>\n",
       "      <td>0.000000</td>\n",
       "      <td>0.000000</td>\n",
       "      <td>0.000000</td>\n",
       "      <td>0.000000</td>\n",
       "    </tr>\n",
       "    <tr>\n",
       "      <th>75%</th>\n",
       "      <td>0.000000</td>\n",
       "      <td>0.000000</td>\n",
       "      <td>0.000000</td>\n",
       "      <td>0.000000</td>\n",
       "      <td>0.000000</td>\n",
       "      <td>0.000000</td>\n",
       "      <td>0.000000</td>\n",
       "      <td>0.000000</td>\n",
       "      <td>0.000000</td>\n",
       "      <td>0.000000</td>\n",
       "      <td>...</td>\n",
       "      <td>0.000000</td>\n",
       "      <td>0.000000</td>\n",
       "      <td>0.000000</td>\n",
       "      <td>0.000000</td>\n",
       "      <td>0.000000</td>\n",
       "      <td>0.000000</td>\n",
       "      <td>0.000000</td>\n",
       "      <td>0.000000</td>\n",
       "      <td>0.000000</td>\n",
       "      <td>0.000000</td>\n",
       "    </tr>\n",
       "    <tr>\n",
       "      <th>max</th>\n",
       "      <td>0.265556</td>\n",
       "      <td>0.337824</td>\n",
       "      <td>0.316593</td>\n",
       "      <td>0.209957</td>\n",
       "      <td>0.277953</td>\n",
       "      <td>0.298782</td>\n",
       "      <td>0.324070</td>\n",
       "      <td>0.299611</td>\n",
       "      <td>0.231738</td>\n",
       "      <td>0.200569</td>\n",
       "      <td>...</td>\n",
       "      <td>0.226519</td>\n",
       "      <td>0.208890</td>\n",
       "      <td>0.357795</td>\n",
       "      <td>0.228713</td>\n",
       "      <td>0.314832</td>\n",
       "      <td>0.201190</td>\n",
       "      <td>0.286642</td>\n",
       "      <td>0.266303</td>\n",
       "      <td>0.165859</td>\n",
       "      <td>0.113743</td>\n",
       "    </tr>\n",
       "  </tbody>\n",
       "</table>\n",
       "<p>8 rows × 10140 columns</p>\n",
       "</div>"
      ],
      "text/plain": [
       "                00          000           02           06           10  \\\n",
       "count  2838.000000  2838.000000  2838.000000  2838.000000  2838.000000   \n",
       "mean      0.000176     0.000570     0.000112     0.000074     0.003420   \n",
       "std       0.006641     0.010400     0.005943     0.003941     0.022159   \n",
       "min       0.000000     0.000000     0.000000     0.000000     0.000000   \n",
       "25%       0.000000     0.000000     0.000000     0.000000     0.000000   \n",
       "50%       0.000000     0.000000     0.000000     0.000000     0.000000   \n",
       "75%       0.000000     0.000000     0.000000     0.000000     0.000000   \n",
       "max       0.265556     0.337824     0.316593     0.209957     0.277953   \n",
       "\n",
       "               100         1000        100kg        100mg         100x  ...  \\\n",
       "count  2838.000000  2838.000000  2838.000000  2838.000000  2838.000000  ...   \n",
       "mean      0.001897     0.000607     0.000106     0.000122     0.000071  ...   \n",
       "std       0.018407     0.011747     0.005624     0.004854     0.003765  ...   \n",
       "min       0.000000     0.000000     0.000000     0.000000     0.000000  ...   \n",
       "25%       0.000000     0.000000     0.000000     0.000000     0.000000  ...   \n",
       "50%       0.000000     0.000000     0.000000     0.000000     0.000000  ...   \n",
       "75%       0.000000     0.000000     0.000000     0.000000     0.000000  ...   \n",
       "max       0.298782     0.324070     0.299611     0.231738     0.200569  ...   \n",
       "\n",
       "             zines      zinsser          zip       zofran       zoloft  \\\n",
       "count  2838.000000  2838.000000  2838.000000  2838.000000  2838.000000   \n",
       "mean      0.000080     0.000074     0.000212     0.000081     0.000748   \n",
       "std       0.004252     0.003921     0.008125     0.004293     0.012308   \n",
       "min       0.000000     0.000000     0.000000     0.000000     0.000000   \n",
       "25%       0.000000     0.000000     0.000000     0.000000     0.000000   \n",
       "50%       0.000000     0.000000     0.000000     0.000000     0.000000   \n",
       "75%       0.000000     0.000000     0.000000     0.000000     0.000000   \n",
       "max       0.226519     0.208890     0.357795     0.228713     0.314832   \n",
       "\n",
       "            zombie         zone          zoo         zuko        zumba  \n",
       "count  2838.000000  2838.000000  2838.000000  2838.000000  2838.000000  \n",
       "mean      0.000136     0.000257     0.000094     0.000058     0.000040  \n",
       "std       0.005144     0.007226     0.004999     0.003113     0.002135  \n",
       "min       0.000000     0.000000     0.000000     0.000000     0.000000  \n",
       "25%       0.000000     0.000000     0.000000     0.000000     0.000000  \n",
       "50%       0.000000     0.000000     0.000000     0.000000     0.000000  \n",
       "75%       0.000000     0.000000     0.000000     0.000000     0.000000  \n",
       "max       0.201190     0.286642     0.266303     0.165859     0.113743  \n",
       "\n",
       "[8 rows x 10140 columns]"
      ]
     },
     "execution_count": 9,
     "metadata": {},
     "output_type": "execute_result"
    }
   ],
   "source": [
    "tf_df.describe()"
   ]
  },
  {
   "cell_type": "code",
   "execution_count": 10,
   "id": "9b143e1a",
   "metadata": {
    "colab": {
     "base_uri": "https://localhost:8080/"
    },
    "id": "9b143e1a",
    "outputId": "107f7055-5c4e-47ca-d516-8189ee3a164e"
   },
   "outputs": [
    {
     "data": {
      "text/plain": [
       "((2838, 10140), (2838, 10140))"
      ]
     },
     "execution_count": 10,
     "metadata": {},
     "output_type": "execute_result"
    }
   ],
   "source": [
    "cv_df.shape,tf_df.shape"
   ]
  },
  {
   "cell_type": "markdown",
   "id": "30d7261c",
   "metadata": {
    "id": "30d7261c"
   },
   "source": [
    "### Choose the best model"
   ]
  },
  {
   "cell_type": "markdown",
   "id": "e3f87612",
   "metadata": {
    "id": "e3f87612"
   },
   "source": [
    "Each case explores a different combination of model and feature representation.\n",
    "\n",
    "The choice between models and representations may depend on the specific characteristics of our data and the trade-off between simplicity and complexity in the model."
   ]
  },
  {
   "cell_type": "markdown",
   "id": "a33f4040",
   "metadata": {
    "id": "a33f4040"
   },
   "source": [
    "BOW treats all words equally, including common ones that may not be informative for classification.\n"
   ]
  },
  {
   "cell_type": "code",
   "execution_count": 11,
   "id": "ba7e8bac",
   "metadata": {
    "id": "ba7e8bac"
   },
   "outputs": [],
   "source": [
    "# Import necessary libraries and modules\n",
    "from sklearn.model_selection import train_test_split\n",
    "from sklearn.linear_model import LogisticRegression\n",
    "from sklearn.naive_bayes import MultinomialNB\n",
    "from sklearn.ensemble import RandomForestClassifier\n",
    "\n",
    "# Split the data into training and test sets\n",
    "X_train, X_test, y_train, y_test = train_test_split(cv_df, df1['label'], stratify=df1['label'])\n"
   ]
  },
  {
   "cell_type": "markdown",
   "id": "a6b43f4e",
   "metadata": {
    "id": "a6b43f4e"
   },
   "source": [
    " Logistic Regression is chosen for its simplicity and interpretability. Bag of Words (BOW) representation is used, which creates a vocabulary of words and encodes each document as a vector of word counts."
   ]
  },
  {
   "cell_type": "code",
   "execution_count": 12,
   "id": "3a7b6105",
   "metadata": {
    "colab": {
     "base_uri": "https://localhost:8080/",
     "height": 74
    },
    "id": "3a7b6105",
    "outputId": "592960dd-fb63-458b-c247-7e9e29871479"
   },
   "outputs": [
    {
     "data": {
      "text/html": [
       "<style>#sk-container-id-1 {color: black;}#sk-container-id-1 pre{padding: 0;}#sk-container-id-1 div.sk-toggleable {background-color: white;}#sk-container-id-1 label.sk-toggleable__label {cursor: pointer;display: block;width: 100%;margin-bottom: 0;padding: 0.3em;box-sizing: border-box;text-align: center;}#sk-container-id-1 label.sk-toggleable__label-arrow:before {content: \"▸\";float: left;margin-right: 0.25em;color: #696969;}#sk-container-id-1 label.sk-toggleable__label-arrow:hover:before {color: black;}#sk-container-id-1 div.sk-estimator:hover label.sk-toggleable__label-arrow:before {color: black;}#sk-container-id-1 div.sk-toggleable__content {max-height: 0;max-width: 0;overflow: hidden;text-align: left;background-color: #f0f8ff;}#sk-container-id-1 div.sk-toggleable__content pre {margin: 0.2em;color: black;border-radius: 0.25em;background-color: #f0f8ff;}#sk-container-id-1 input.sk-toggleable__control:checked~div.sk-toggleable__content {max-height: 200px;max-width: 100%;overflow: auto;}#sk-container-id-1 input.sk-toggleable__control:checked~label.sk-toggleable__label-arrow:before {content: \"▾\";}#sk-container-id-1 div.sk-estimator input.sk-toggleable__control:checked~label.sk-toggleable__label {background-color: #d4ebff;}#sk-container-id-1 div.sk-label input.sk-toggleable__control:checked~label.sk-toggleable__label {background-color: #d4ebff;}#sk-container-id-1 input.sk-hidden--visually {border: 0;clip: rect(1px 1px 1px 1px);clip: rect(1px, 1px, 1px, 1px);height: 1px;margin: -1px;overflow: hidden;padding: 0;position: absolute;width: 1px;}#sk-container-id-1 div.sk-estimator {font-family: monospace;background-color: #f0f8ff;border: 1px dotted black;border-radius: 0.25em;box-sizing: border-box;margin-bottom: 0.5em;}#sk-container-id-1 div.sk-estimator:hover {background-color: #d4ebff;}#sk-container-id-1 div.sk-parallel-item::after {content: \"\";width: 100%;border-bottom: 1px solid gray;flex-grow: 1;}#sk-container-id-1 div.sk-label:hover label.sk-toggleable__label {background-color: #d4ebff;}#sk-container-id-1 div.sk-serial::before {content: \"\";position: absolute;border-left: 1px solid gray;box-sizing: border-box;top: 0;bottom: 0;left: 50%;z-index: 0;}#sk-container-id-1 div.sk-serial {display: flex;flex-direction: column;align-items: center;background-color: white;padding-right: 0.2em;padding-left: 0.2em;position: relative;}#sk-container-id-1 div.sk-item {position: relative;z-index: 1;}#sk-container-id-1 div.sk-parallel {display: flex;align-items: stretch;justify-content: center;background-color: white;position: relative;}#sk-container-id-1 div.sk-item::before, #sk-container-id-1 div.sk-parallel-item::before {content: \"\";position: absolute;border-left: 1px solid gray;box-sizing: border-box;top: 0;bottom: 0;left: 50%;z-index: -1;}#sk-container-id-1 div.sk-parallel-item {display: flex;flex-direction: column;z-index: 1;position: relative;background-color: white;}#sk-container-id-1 div.sk-parallel-item:first-child::after {align-self: flex-end;width: 50%;}#sk-container-id-1 div.sk-parallel-item:last-child::after {align-self: flex-start;width: 50%;}#sk-container-id-1 div.sk-parallel-item:only-child::after {width: 0;}#sk-container-id-1 div.sk-dashed-wrapped {border: 1px dashed gray;margin: 0 0.4em 0.5em 0.4em;box-sizing: border-box;padding-bottom: 0.4em;background-color: white;}#sk-container-id-1 div.sk-label label {font-family: monospace;font-weight: bold;display: inline-block;line-height: 1.2em;}#sk-container-id-1 div.sk-label-container {text-align: center;}#sk-container-id-1 div.sk-container {/* jupyter's `normalize.less` sets `[hidden] { display: none; }` but bootstrap.min.css set `[hidden] { display: none !important; }` so we also need the `!important` here to be able to override the default hidden behavior on the sphinx rendered scikit-learn.org. See: https://github.com/scikit-learn/scikit-learn/issues/21755 */display: inline-block !important;position: relative;}#sk-container-id-1 div.sk-text-repr-fallback {display: none;}</style><div id=\"sk-container-id-1\" class=\"sk-top-container\"><div class=\"sk-text-repr-fallback\"><pre>LogisticRegression()</pre><b>In a Jupyter environment, please rerun this cell to show the HTML representation or trust the notebook. <br />On GitHub, the HTML representation is unable to render, please try loading this page with nbviewer.org.</b></div><div class=\"sk-container\" hidden><div class=\"sk-item\"><div class=\"sk-estimator sk-toggleable\"><input class=\"sk-toggleable__control sk-hidden--visually\" id=\"sk-estimator-id-1\" type=\"checkbox\" checked><label for=\"sk-estimator-id-1\" class=\"sk-toggleable__label sk-toggleable__label-arrow\">LogisticRegression</label><div class=\"sk-toggleable__content\"><pre>LogisticRegression()</pre></div></div></div></div></div>"
      ],
      "text/plain": [
       "LogisticRegression()"
      ]
     },
     "execution_count": 12,
     "metadata": {},
     "output_type": "execute_result"
    }
   ],
   "source": [
    "# Initialize the models and train them\n",
    "# Logistic Regression with BOW\n",
    "model_lr_bow = LogisticRegression()\n",
    "model_lr_bow.fit(X_train, y_train)\n"
   ]
  },
  {
   "cell_type": "code",
   "execution_count": 13,
   "id": "0d64ef1c",
   "metadata": {
    "colab": {
     "base_uri": "https://localhost:8080/"
    },
    "id": "0d64ef1c",
    "outputId": "e3868e86-d066-4f40-8210-ff2225fe9121"
   },
   "outputs": [
    {
     "name": "stdout",
     "output_type": "stream",
     "text": [
      "0.9967105263157895\n",
      "0.7281690140845071\n"
     ]
    }
   ],
   "source": [
    "# Evaluate the models on the test set\n",
    "# Logistic Regression with BOW\n",
    "lr_bow_train_score = model_lr_bow.score(X_train, y_train)\n",
    "lr_bow_test_score = model_lr_bow.score(X_test, y_test)\n",
    "\n",
    "print(lr_bow_train_score)\n",
    "print(lr_bow_test_score)"
   ]
  },
  {
   "cell_type": "markdown",
   "id": "f804e49f",
   "metadata": {
    "id": "f804e49f"
   },
   "source": [
    "Naive Bayes is selected for its effectiveness in handling text data. It's also based on the BOW representation, Naive Bayes makes strong independence assumptions between features, which can work well with BOW. It's computationally efficient and often used in text classification tasks."
   ]
  },
  {
   "cell_type": "code",
   "execution_count": 14,
   "id": "08cdf996",
   "metadata": {
    "id": "08cdf996"
   },
   "outputs": [],
   "source": [
    "# Naive Bayes with BOW\n",
    "model_nb_bow = MultinomialNB()\n",
    "model_nb_bow.fit(X_train, y_train)\n",
    "# Scores\n",
    "nb_bow_train_score = model_nb_bow.score(X_train, y_train)\n",
    "nb_bow_test_score = model_nb_bow.score(X_test, y_test)\n"
   ]
  },
  {
   "cell_type": "markdown",
   "id": "59f9becd",
   "metadata": {
    "id": "59f9becd"
   },
   "source": [
    "Random Forest is a more complex model capable of capturing non-linear relationships in the data with BOW features that can capture intricate patterns in text data and provide better generalization by aggregating multiple decision trees."
   ]
  },
  {
   "cell_type": "code",
   "execution_count": 15,
   "id": "5e46ce95",
   "metadata": {
    "colab": {
     "base_uri": "https://localhost:8080/",
     "height": 74
    },
    "id": "5e46ce95",
    "outputId": "feff6e9d-632c-47b3-cb52-09bec968531f"
   },
   "outputs": [
    {
     "data": {
      "text/html": [
       "<style>#sk-container-id-2 {color: black;}#sk-container-id-2 pre{padding: 0;}#sk-container-id-2 div.sk-toggleable {background-color: white;}#sk-container-id-2 label.sk-toggleable__label {cursor: pointer;display: block;width: 100%;margin-bottom: 0;padding: 0.3em;box-sizing: border-box;text-align: center;}#sk-container-id-2 label.sk-toggleable__label-arrow:before {content: \"▸\";float: left;margin-right: 0.25em;color: #696969;}#sk-container-id-2 label.sk-toggleable__label-arrow:hover:before {color: black;}#sk-container-id-2 div.sk-estimator:hover label.sk-toggleable__label-arrow:before {color: black;}#sk-container-id-2 div.sk-toggleable__content {max-height: 0;max-width: 0;overflow: hidden;text-align: left;background-color: #f0f8ff;}#sk-container-id-2 div.sk-toggleable__content pre {margin: 0.2em;color: black;border-radius: 0.25em;background-color: #f0f8ff;}#sk-container-id-2 input.sk-toggleable__control:checked~div.sk-toggleable__content {max-height: 200px;max-width: 100%;overflow: auto;}#sk-container-id-2 input.sk-toggleable__control:checked~label.sk-toggleable__label-arrow:before {content: \"▾\";}#sk-container-id-2 div.sk-estimator input.sk-toggleable__control:checked~label.sk-toggleable__label {background-color: #d4ebff;}#sk-container-id-2 div.sk-label input.sk-toggleable__control:checked~label.sk-toggleable__label {background-color: #d4ebff;}#sk-container-id-2 input.sk-hidden--visually {border: 0;clip: rect(1px 1px 1px 1px);clip: rect(1px, 1px, 1px, 1px);height: 1px;margin: -1px;overflow: hidden;padding: 0;position: absolute;width: 1px;}#sk-container-id-2 div.sk-estimator {font-family: monospace;background-color: #f0f8ff;border: 1px dotted black;border-radius: 0.25em;box-sizing: border-box;margin-bottom: 0.5em;}#sk-container-id-2 div.sk-estimator:hover {background-color: #d4ebff;}#sk-container-id-2 div.sk-parallel-item::after {content: \"\";width: 100%;border-bottom: 1px solid gray;flex-grow: 1;}#sk-container-id-2 div.sk-label:hover label.sk-toggleable__label {background-color: #d4ebff;}#sk-container-id-2 div.sk-serial::before {content: \"\";position: absolute;border-left: 1px solid gray;box-sizing: border-box;top: 0;bottom: 0;left: 50%;z-index: 0;}#sk-container-id-2 div.sk-serial {display: flex;flex-direction: column;align-items: center;background-color: white;padding-right: 0.2em;padding-left: 0.2em;position: relative;}#sk-container-id-2 div.sk-item {position: relative;z-index: 1;}#sk-container-id-2 div.sk-parallel {display: flex;align-items: stretch;justify-content: center;background-color: white;position: relative;}#sk-container-id-2 div.sk-item::before, #sk-container-id-2 div.sk-parallel-item::before {content: \"\";position: absolute;border-left: 1px solid gray;box-sizing: border-box;top: 0;bottom: 0;left: 50%;z-index: -1;}#sk-container-id-2 div.sk-parallel-item {display: flex;flex-direction: column;z-index: 1;position: relative;background-color: white;}#sk-container-id-2 div.sk-parallel-item:first-child::after {align-self: flex-end;width: 50%;}#sk-container-id-2 div.sk-parallel-item:last-child::after {align-self: flex-start;width: 50%;}#sk-container-id-2 div.sk-parallel-item:only-child::after {width: 0;}#sk-container-id-2 div.sk-dashed-wrapped {border: 1px dashed gray;margin: 0 0.4em 0.5em 0.4em;box-sizing: border-box;padding-bottom: 0.4em;background-color: white;}#sk-container-id-2 div.sk-label label {font-family: monospace;font-weight: bold;display: inline-block;line-height: 1.2em;}#sk-container-id-2 div.sk-label-container {text-align: center;}#sk-container-id-2 div.sk-container {/* jupyter's `normalize.less` sets `[hidden] { display: none; }` but bootstrap.min.css set `[hidden] { display: none !important; }` so we also need the `!important` here to be able to override the default hidden behavior on the sphinx rendered scikit-learn.org. See: https://github.com/scikit-learn/scikit-learn/issues/21755 */display: inline-block !important;position: relative;}#sk-container-id-2 div.sk-text-repr-fallback {display: none;}</style><div id=\"sk-container-id-2\" class=\"sk-top-container\"><div class=\"sk-text-repr-fallback\"><pre>RandomForestClassifier()</pre><b>In a Jupyter environment, please rerun this cell to show the HTML representation or trust the notebook. <br />On GitHub, the HTML representation is unable to render, please try loading this page with nbviewer.org.</b></div><div class=\"sk-container\" hidden><div class=\"sk-item\"><div class=\"sk-estimator sk-toggleable\"><input class=\"sk-toggleable__control sk-hidden--visually\" id=\"sk-estimator-id-2\" type=\"checkbox\" checked><label for=\"sk-estimator-id-2\" class=\"sk-toggleable__label sk-toggleable__label-arrow\">RandomForestClassifier</label><div class=\"sk-toggleable__content\"><pre>RandomForestClassifier()</pre></div></div></div></div></div>"
      ],
      "text/plain": [
       "RandomForestClassifier()"
      ]
     },
     "execution_count": 15,
     "metadata": {},
     "output_type": "execute_result"
    }
   ],
   "source": [
    "# Random Forest with BOW\n",
    "model_rf_bow = RandomForestClassifier()\n",
    "model_rf_bow.fit(X_train, y_train)"
   ]
  },
  {
   "cell_type": "code",
   "execution_count": 16,
   "id": "78f54bef",
   "metadata": {
    "id": "78f54bef"
   },
   "outputs": [],
   "source": [
    "\n",
    "# Random Forest with BOW\n",
    "rf_bow_train_score = model_rf_bow.score(X_train, y_train)\n",
    "rf_bow_test_score = model_rf_bow.score(X_test, y_test)\n"
   ]
  },
  {
   "cell_type": "markdown",
   "id": "dc848b2c",
   "metadata": {
    "id": "dc848b2c"
   },
   "source": [
    "TF-IDF\n"
   ]
  },
  {
   "cell_type": "markdown",
   "id": "2fdaeac8",
   "metadata": {
    "id": "2fdaeac8"
   },
   "source": [
    "Term Frequency-Inverse Document Frequency (TF-IDF):\n",
    "\n",
    "BOW treats all words equally, including common ones that may not be informative for classification.\n",
    "TF-IDF addresses this by giving higher scores to words that are frequent in a specific document but rare across the entire corpus.\n",
    "That helps emphasize discriminative terms for classification and reduces the impact of common words like \"the\" and \"and.\""
   ]
  },
  {
   "cell_type": "code",
   "execution_count": 17,
   "id": "e1d364d4",
   "metadata": {
    "id": "e1d364d4"
   },
   "outputs": [],
   "source": [
    "\n",
    "# Repeat the same steps for TF-IDF\n",
    "X_train_tfidf, X_test_tfidf, y_train_tfidf, y_test_tfidf = train_test_split(tf_df, df1['label'], stratify=df1['label'])\n"
   ]
  },
  {
   "cell_type": "markdown",
   "id": "b98242bf",
   "metadata": {
    "id": "b98242bf"
   },
   "source": [
    "Logistic Regression with the Term Frequency-Inverse Document Frequency (TF-IDF) representation.\n",
    "TF-IDF assigns weights to words based on their importance that can highlight the significance of words in documents, and Logistic Regression can efficiently handle these weighted features."
   ]
  },
  {
   "cell_type": "code",
   "execution_count": 18,
   "id": "0b17192d",
   "metadata": {
    "id": "0b17192d"
   },
   "outputs": [],
   "source": [
    "# Logistic Regression with TF-IDF\n",
    "model_lr_tfidf = LogisticRegression()\n",
    "model_lr_tfidf.fit(X_train_tfidf, y_train_tfidf)\n",
    "# Evaluate the models on the test set\n",
    "# Logistic Regression with TF-IDF\n",
    "lr_tfidf_train_score = model_lr_tfidf.score(X_train_tfidf, y_train_tfidf)\n",
    "lr_tfidf_test_score = model_lr_tfidf.score(X_test_tfidf, y_test_tfidf)\n"
   ]
  },
  {
   "cell_type": "markdown",
   "id": "b05636a2",
   "metadata": {
    "id": "b05636a2"
   },
   "source": [
    "Naive Bayes with TF-IDF is a robust choice when considering term importance.\n",
    "Very useful when certain words are more informative."
   ]
  },
  {
   "cell_type": "code",
   "execution_count": 19,
   "id": "ba0b5349",
   "metadata": {
    "id": "ba0b5349"
   },
   "outputs": [],
   "source": [
    "# Naive Bayes with TF-IDF\n",
    "model_nb_tfidf = MultinomialNB()\n",
    "model_nb_tfidf.fit(X_train_tfidf, y_train_tfidf)\n",
    "\n",
    "# Naive Bayes with TF-IDF\n",
    "nb_tfidf_train_score = model_nb_tfidf.score(X_train_tfidf, y_train_tfidf)\n",
    "nb_tfidf_test_score = model_nb_tfidf.score(X_test_tfidf, y_test_tfidf)\n"
   ]
  },
  {
   "cell_type": "markdown",
   "id": "5a626368",
   "metadata": {
    "id": "5a626368"
   },
   "source": [
    "Random Forest is used with TF-IDF features for its ability to handle high-dimensional data and can effectively exploit the weighted word features provided by TF-IDF."
   ]
  },
  {
   "cell_type": "code",
   "execution_count": 20,
   "id": "ee2d1992",
   "metadata": {
    "id": "ee2d1992"
   },
   "outputs": [],
   "source": [
    "# Random Forest with TF-IDF\n",
    "model_rf_tfidf = RandomForestClassifier()\n",
    "model_rf_tfidf.fit(X_train_tfidf, y_train_tfidf)\n",
    "# Random Forest with TF-IDF\n",
    "rf_tfidf_train_score = model_rf_tfidf.score(X_train_tfidf, y_train_tfidf)\n",
    "rf_tfidf_test_score = model_rf_tfidf.score(X_test_tfidf, y_test_tfidf)"
   ]
  },
  {
   "cell_type": "markdown",
   "id": "0a33c1bf",
   "metadata": {
    "id": "0a33c1bf"
   },
   "source": [
    "Comparaison between all model choosen"
   ]
  },
  {
   "cell_type": "code",
   "execution_count": 21,
   "id": "8c8251e0",
   "metadata": {
    "colab": {
     "base_uri": "https://localhost:8080/"
    },
    "id": "8c8251e0",
    "outputId": "7b510afb-cf3f-43de-8c00-2741ac9b6b19"
   },
   "outputs": [
    {
     "name": "stdout",
     "output_type": "stream",
     "text": [
      "                             Model  Train Score (BOW)  Test Score (BOW)  \\\n",
      "0     Logistic Regression with BOW           0.996711          0.728169   \n",
      "1             Naive Bayes with BOW           0.926222          0.747887   \n",
      "2           Random Forest with BOW           0.998120          0.728169   \n",
      "3  Logistic Regression with TF-IDF           0.000000          0.000000   \n",
      "4          Naive Bayes with TF-IDF           0.000000          0.000000   \n",
      "5        Random Forest with TF-IDF           0.000000          0.000000   \n",
      "\n",
      "   Train Score (TF-IDF)  Test Score (TF-IDF)  \n",
      "0              0.000000             0.000000  \n",
      "1              0.000000             0.000000  \n",
      "2              0.000000             0.000000  \n",
      "3              0.914474             0.729577  \n",
      "4              0.863252             0.695775  \n",
      "5              0.999060             0.688732  \n"
     ]
    }
   ],
   "source": [
    "import pandas as pd\n",
    "\n",
    "# Create a dictionary with the model names and their respective scores\n",
    "scores_data = {\n",
    "    'Model': ['Logistic Regression with BOW', 'Naive Bayes with BOW', 'Random Forest with BOW',\n",
    "              'Logistic Regression with TF-IDF', 'Naive Bayes with TF-IDF', 'Random Forest with TF-IDF'],\n",
    "    'Train Score (BOW)': [lr_bow_train_score, nb_bow_train_score, rf_bow_train_score, 0, 0, 0],\n",
    "    'Test Score (BOW)': [lr_bow_test_score, nb_bow_test_score, rf_bow_test_score, 0, 0, 0],\n",
    "    'Train Score (TF-IDF)': [0, 0, 0, lr_tfidf_train_score, nb_tfidf_train_score, rf_tfidf_train_score],\n",
    "    'Test Score (TF-IDF)': [0, 0, 0, lr_tfidf_test_score, nb_tfidf_test_score, rf_tfidf_test_score]\n",
    "}\n",
    "\n",
    "# Create a Pandas DataFrame\n",
    "scores_df = pd.DataFrame(scores_data)\n",
    "\n",
    "# Display the comparison table\n",
    "print(scores_df)\n"
   ]
  },
  {
   "cell_type": "markdown",
   "id": "kHeysLvrMZrY",
   "metadata": {
    "id": "kHeysLvrMZrY"
   },
   "source": [
    "Now we need to Visualize to choose best model to conitnue"
   ]
  },
  {
   "cell_type": "code",
   "execution_count": 22,
   "id": "YLLKO_ZyMYFe",
   "metadata": {
    "colab": {
     "base_uri": "https://localhost:8080/",
     "height": 607
    },
    "id": "YLLKO_ZyMYFe",
    "outputId": "29ca60e7-1712-4389-9cf1-3cfa49c28b37"
   },
   "outputs": [
    {
     "data": {
      "image/png": "[encoded data removed]",
      "text/plain": [
       "<Figure size 864x432 with 1 Axes>"
      ]
     },
     "metadata": {
      "needs_background": "light"
     },
     "output_type": "display_data"
    }
   ],
   "source": [
    "import matplotlib.pyplot as plt\n",
    "import numpy as np\n",
    "\n",
    "# Data for the bar chart\n",
    "models = ['Logistic Regression', 'Naive Bayes', 'Random Forest']\n",
    "bow_train_scores = [lr_bow_train_score, nb_bow_train_score, rf_bow_train_score]\n",
    "bow_test_scores = [lr_bow_test_score, nb_bow_test_score, rf_bow_test_score]\n",
    "tfidf_train_scores = [lr_tfidf_train_score, nb_tfidf_train_score, rf_tfidf_train_score]\n",
    "tfidf_test_scores = [lr_tfidf_test_score, nb_tfidf_test_score, rf_tfidf_test_score]\n",
    "\n",
    "# Bar width\n",
    "bar_width = 0.35\n",
    "index = np.arange(len(models))\n",
    "\n",
    "# Create the bar chart\n",
    "fig, ax = plt.subplots(figsize=(12, 6))\n",
    "\n",
    "# Training Scores\n",
    "ax.bar(index - bar_width/2, bow_train_scores, color='#1f77b4', width=bar_width, edgecolor='grey', label='BOW - Train')\n",
    "ax.bar(index - bar_width/2, tfidf_train_scores, bottom=bow_train_scores, color='#ff7f0e', width=bar_width, edgecolor='grey', label='TF-IDF - Train')\n",
    "\n",
    "# Testing Scores\n",
    "ax.bar(index + bar_width/2, bow_test_scores, color='#1f77b4', width=bar_width, edgecolor='grey', label='BOW - Test', alpha=0.5)\n",
    "ax.bar(index + bar_width/2, tfidf_test_scores, bottom=bow_test_scores, color='#ff7f0e', width=bar_width, edgecolor='grey', label='TF-IDF - Test', alpha=0.5)\n",
    "\n",
    "# Customize the chart\n",
    "ax.set_xlabel('Models', fontweight='bold', fontsize=15)\n",
    "ax.set_ylabel('Scores', fontweight='bold', fontsize=15)\n",
    "ax.set_title('Model Performance Comparison', fontweight='bold', fontsize=18)\n",
    "ax.set_xticks(index)\n",
    "ax.set_xticklabels(models)\n",
    "ax.legend(loc='upper left', bbox_to_anchor=(1, 1))\n",
    "\n",
    "# Show the plot\n",
    "plt.tight_layout()\n",
    "plt.show()\n"
   ]
  },
  {
   "cell_type": "markdown",
   "id": "5Bp6Nf4i1itS",
   "metadata": {
    "id": "5Bp6Nf4i1itS"
   },
   "source": [
    "Best Test model is Linear Regression with TF-IDF, that porve it's important to search because any models can be the best, that depend with th e context, a simple linear regression is here the most powerful with a difficult problematic than recognize stress."
   ]
  },
  {
   "cell_type": "markdown",
   "id": "zVkq_2CK190O",
   "metadata": {
    "id": "zVkq_2CK190O"
   },
   "source": [
    "## Now we can visualize the first prediction with a confusion matrix"
   ]
  },
  {
   "cell_type": "code",
   "execution_count": 23,
   "id": "zPyR8jaTNwgp",
   "metadata": {
    "id": "zPyR8jaTNwgp"
   },
   "outputs": [],
   "source": [
    "import matplotlib.pyplot as plt\n",
    "import seaborn as sns\n",
    "from sklearn.metrics import confusion_matrix,classification_report"
   ]
  },
  {
   "cell_type": "code",
   "execution_count": 24,
   "id": "Lyfmyi5bN9i9",
   "metadata": {
    "id": "Lyfmyi5bN9i9"
   },
   "outputs": [],
   "source": [
    "# Logistic Regression with TF-IDF\n",
    "model_lr_tfidf = LogisticRegression()\n",
    "model_lr_tfidf.fit(X_train_tfidf, y_train_tfidf)\n",
    "# Evaluate the models on the test set\n",
    "# Logistic Regression with TF-IDF\n",
    "lr_tfidf_train_score = model_lr_tfidf.score(X_train_tfidf, y_train_tfidf)\n",
    "lr_tfidf_test_score = model_lr_tfidf.score(X_test_tfidf, y_test_tfidf)"
   ]
  },
  {
   "cell_type": "code",
   "execution_count": 25,
   "id": "cwCN7UpuRtZC",
   "metadata": {
    "colab": {
     "base_uri": "https://localhost:8080/"
    },
    "id": "cwCN7UpuRtZC",
    "outputId": "3007b957-e0da-4911-b9a6-f2bb45088360"
   },
   "outputs": [
    {
     "name": "stdout",
     "output_type": "stream",
     "text": [
      "[[243  95]\n",
      " [ 97 275]]\n"
     ]
    }
   ],
   "source": [
    "from sklearn.metrics import confusion_matrix\n",
    "\n",
    "# Assuming y_test_tfidf contains the true labels\n",
    "y_pred = model_lr_tfidf.predict(X_test_tfidf)\n",
    "cm = confusion_matrix(y_test_tfidf, y_pred)\n",
    "print(cm)\n"
   ]
  },
  {
   "cell_type": "markdown",
   "id": "EslF67xr2G2s",
   "metadata": {
    "id": "EslF67xr2G2s"
   },
   "source": [
    "This is not perfect because stress is difficult to detect"
   ]
  },
  {
   "cell_type": "code",
   "execution_count": 26,
   "id": "Hde6HE6uyGw1",
   "metadata": {
    "colab": {
     "base_uri": "https://localhost:8080/",
     "height": 564
    },
    "id": "Hde6HE6uyGw1",
    "outputId": "d9e25e93-bf63-4f60-c9be-94fa5cf48c44"
   },
   "outputs": [
    {
     "data": {
      "image/png": "[encoded data removed]",
      "text/plain": [
       "<Figure size 576x432 with 1 Axes>"
      ]
     },
     "metadata": {
      "needs_background": "light"
     },
     "output_type": "display_data"
    }
   ],
   "source": [
    "import seaborn as sns\n",
    "import matplotlib.pyplot as plt\n",
    "from sklearn.metrics import confusion_matrix\n",
    "\n",
    "\n",
    "# Create a heatmap for the confusion matrix\n",
    "plt.figure(figsize=(8, 6))\n",
    "sns.heatmap(cm, annot=True, fmt='d', cmap='Blues', linewidths=.5, cbar=False)\n",
    "\n",
    "# Set labels and title\n",
    "plt.xlabel(\"Predicted\")\n",
    "plt.ylabel(\"True\")\n",
    "plt.title(\"Confusion Matrix for Logistic Regression with TF-IDF\")\n",
    "\n",
    "# Display the plot\n",
    "plt.show()\n"
   ]
  },
  {
   "cell_type": "markdown",
   "id": "5qTmlGUCyvGI",
   "metadata": {
    "id": "5qTmlGUCyvGI"
   },
   "source": [
    "Now we can see our model can be effective, stress is a sentiment very difficult to sent for machine. Predictions are now possible with our best model, we can be more effective with deep learning, we can expect best results."
   ]
  },
  {
   "cell_type": "code",
   "execution_count": 27,
   "id": "5nSRS5ZP0KmO",
   "metadata": {
    "colab": {
     "base_uri": "https://localhost:8080/"
    },
    "id": "5nSRS5ZP0KmO",
    "outputId": "af8296f3-42e3-469b-ca5f-df5583d9c4b3"
   },
   "outputs": [
    {
     "name": "stdout",
     "output_type": "stream",
     "text": [
      "              precision    recall  f1-score   support\n",
      "\n",
      "           0       0.71      0.72      0.72       338\n",
      "           1       0.74      0.74      0.74       372\n",
      "\n",
      "    accuracy                           0.73       710\n",
      "   macro avg       0.73      0.73      0.73       710\n",
      "weighted avg       0.73      0.73      0.73       710\n",
      "\n"
     ]
    }
   ],
   "source": [
    "\n",
    "# Check the classification report\n",
    "print(classification_report(y_test_tfidf, y_pred))\n"
   ]
  },
  {
   "cell_type": "markdown",
   "id": "Q5tKtA7-0TMh",
   "metadata": {
    "id": "Q5tKtA7-0TMh"
   },
   "source": [
    "Classificatication report help to provides you with a detailed breakdown of how well your model is doing in terms of precision, recall, and F1-score for each class in your dataset.\n",
    "\n",
    "  **Precision:** This is like the accuracy of your model when it claims to have found something. If it predicts a positive (e.g., spam email), precision tells you how many times it was actually correct.\n",
    "\n",
    " **Recall (Sensitivity):** This is about not missing out on positives. It tells you how many of the actual positives your model managed to capture.\n",
    "\n",
    "  **F1-Score:** This is a balance between precision and recall. Sometimes, you might have a really high precision but low recall or vice versa. F1-score gives you a single number that balances these two aspects.\n",
    "\n",
    "  **Support:** This is the number of actual occurrences of each class in your dataset. It gives you an idea of how common each class is."
   ]
  },
  {
   "cell_type": "markdown",
   "id": "vDTZcKJbzd69",
   "metadata": {
    "id": "vDTZcKJbzd69"
   },
   "source": [
    "# Prediction"
   ]
  },
  {
   "cell_type": "markdown",
   "id": "7FiXvccp29Ih",
   "metadata": {
    "id": "7FiXvccp29Ih"
   },
   "source": [
    "We train a logistic regression model on TF-IDF data to predict stress. The stress_predictor function processes text, transforms it into TF-IDF features, and predicts stress.\n"
   ]
  },
  {
   "cell_type": "code",
   "execution_count": 28,
   "id": "f2QPfxeOziN9",
   "metadata": {
    "colab": {
     "base_uri": "https://localhost:8080/"
    },
    "id": "f2QPfxeOziN9",
    "outputId": "51127b22-2cda-4420-ef66-c447ff9212db"
   },
   "outputs": [
    {
     "name": "stdout",
     "output_type": "stream",
     "text": [
      "Model Accuracy: 0.9059196617336153\n"
     ]
    }
   ],
   "source": [
    "# Train the logistic regression model on the TF-IDF representation\n",
    "logistic_regression_model = LogisticRegression().fit(tf_df, df1['label'])\n",
    "\n",
    "# Check the overall accuracy of the model on the training data\n",
    "accuracy = logistic_regression_model.score(tf_df, df1['label'])\n",
    "print(f\"Model Accuracy: {accuracy}\")\n",
    "\n",
    "# Define a function for making predictions\n",
    "def stress_predictor(text):\n",
    "    processed = textProcess(text)\n",
    "# Transform the processed text using the TF-IDF vectorizer\n",
    "    embedded_words = tf.transform([text])\n",
    "    res = model_lr_tfidf.predict(embedded_words)\n",
    "# Interpret the prediction result and provide a human-readable response\n",
    "    if res[0] == 1:\n",
    "        res = \"stress detected\"\n",
    "    else:\n",
    "        res = \"no stress\"\n",
    "    return res\n"
   ]
  },
  {
   "cell_type": "markdown",
   "id": "hP3kUYyi3E9R",
   "metadata": {
    "id": "hP3kUYyi3E9R"
   },
   "source": [
    "The result is returned as avery good score.\n"
   ]
  },
  {
   "cell_type": "markdown",
   "id": "XN4NOVM74L20",
   "metadata": {
    "id": "XN4NOVM74L20"
   },
   "source": [
    "## Now go test with some text, i test with job situation"
   ]
  },
  {
   "cell_type": "code",
   "execution_count": 29,
   "id": "S9jzbIEqziQ6",
   "metadata": {
    "id": "S9jzbIEqziQ6"
   },
   "outputs": [],
   "source": [
    "text1 = \"\"\"Work today was tough. Dealing with unexpected challenges and tight deadlines.\n",
    "The pressure is on, and it's affecting my performance.\"\"\"\n",
    "text2 = \"\"\"Had a challenging day at work, but I managed to handle it well.\n",
    "Received positive feedback, boosting my confidence.\"\"\"\n",
    "text3 = \"\"\"The workload is piling up, and the constant pressure from the boss is overwhelming.\n",
    "I'm not sure how much longer I can handle this.\"\"\"\n",
    "text4 = \"\"\"Finished my tasks early today. Enjoying a sense of accomplishment and looking forward to a relaxing evening.\"\"\"\n",
    "text5 = \"\"\"\n",
    "A:Hey, Sarah. The brainstorming session today was intense, huh?\n",
    "\n",
    "B:Yeah, Mark. Intense is one word for it. It feels like the pressure is on to deliver something groundbreaking.\n",
    "\n",
    "A:Exactly. The expectations are high, and we need to step up. There's a lot riding on this project.\n",
    "\n",
    "A:I can't shake off this feeling of unease. What if we miss something important? The stakes seem so high.\n",
    "\n",
    "B:I get it, Sarah. But pressure can sometimes bring out the best in us. Let's channel that stress into motivation.\n",
    "\n",
    "A:I hope so, Mark. I just worry that we're juggling too much. The workload is starting to feel overwhelming.\n",
    "\n",
    "B:It's natural to feel that way. Let's take it one step at a time and lean on each other for support. We got this!\n",
    "\"\"\""
   ]
  },
  {
   "cell_type": "code",
   "execution_count": 30,
   "id": "2s4FtJtx7Iyi",
   "metadata": {
    "colab": {
     "base_uri": "https://localhost:8080/",
     "height": 36
    },
    "id": "2s4FtJtx7Iyi",
    "outputId": "70212ab4-6d23-4f77-8068-4d0d26ea9bc4"
   },
   "outputs": [
    {
     "data": {
      "text/plain": [
       "'work today tough dealing unexpected challenge tight deadline pressure affecting performance'"
      ]
     },
     "execution_count": 30,
     "metadata": {},
     "output_type": "execute_result"
    }
   ],
   "source": [
    "textProcess(text1)"
   ]
  },
  {
   "cell_type": "code",
   "execution_count": 31,
   "id": "ibw3TITfziUU",
   "metadata": {
    "colab": {
     "base_uri": "https://localhost:8080/"
    },
    "id": "ibw3TITfziUU",
    "outputId": "12e182ba-64ba-4124-e2c0-09af97b83545"
   },
   "outputs": [
    {
     "name": "stdout",
     "output_type": "stream",
     "text": [
      "no stress\n",
      "no stress\n",
      "stress detected\n",
      "no stress\n",
      "no stress\n"
     ]
    },
    {
     "name": "stderr",
     "output_type": "stream",
     "text": [
      "C:\\Users\\nicol\\anaconda3\\lib\\site-packages\\sklearn\\base.py:465: UserWarning: X does not have valid feature names, but LogisticRegression was fitted with feature names\n",
      "  warnings.warn(\n"
     ]
    }
   ],
   "source": [
    "print(stress_predictor(text1))\n",
    "print(stress_predictor(text2))\n",
    "print(stress_predictor(text3))\n",
    "print(stress_predictor(text4))\n",
    "print(stress_predictor(text5))"
   ]
  },
  {
   "cell_type": "markdown",
   "id": "zuZ5GtA39RsH",
   "metadata": {
    "id": "zuZ5GtA39RsH"
   },
   "source": [
    "The key takeaway is the significance of aligning algorithm selection with the unique characteristics of the problem at hand.\n",
    "This exploration underscores the nuanced interplay between algorithms and performance, offering valuable insights for fellow students venturing into machine learning projects."
   ]
  },
  {
   "cell_type": "markdown",
   "id": "l8L4YnMz9rCG",
   "metadata": {
    "id": "l8L4YnMz9rCG"
   },
   "source": [
    "# Conclusion"
   ]
  },
  {
   "cell_type": "markdown",
   "id": "aedNCLAz9y2J",
   "metadata": {
    "id": "aedNCLAz9y2J"
   },
   "source": [
    "In conclusion, The exploration encompassed Bag of Words (BOW) and Term Frequency-Inverse Document Frequency (TF-IDF) methods, coupled with models like Logistic Regression, Naive Bayes, and Random Forest. Notably, the Random Forest algorithm didn't necessarily yield superior results, emphasizing the significance of algorithm selection based on the unique characteristics of the problem.\n",
    "\n",
    "Looking ahead, an exciting avenue for further exploration involves delving into deep learning techniques, particularly using PyTorch. The transition to deep learning could unlock the potential for capturing intricate patterns and dependencies within textual data, enhancing the model's ability to discern nuanced emotions and stress indicators. This foray into deep learning represents a promising extension of the stress detection project, offering a more sophisticated approach for future enhancements."
   ]
  },
  {
   "cell_type": "markdown",
   "id": "ba0c7b10",
   "metadata": {},
   "source": [
    "Nicolas WATTENHOFFER"
   ]
  },
  {
   "cell_type": "code",
   "execution_count": null,
   "id": "dc5bf531",
   "metadata": {},
   "outputs": [],
   "source": []
  }
 ],
 "metadata": {
  "colab": {
   "provenance": []
  },
  "kernelspec": {
   "display_name": "Python 3 (ipykernel)",
   "language": "python",
   "name": "python3"
  },
  "language_info": {
   "codemirror_mode": {
    "name": "ipython",
    "version": 3
   },
   "file_extension": ".py",
   "mimetype": "text/x-python",
   "name": "python",
   "nbconvert_exporter": "python",
   "pygments_lexer": "ipython3",
   "version": "3.9.7"
  }
 },
 "nbformat": 4,
 "nbformat_minor": 5
}
